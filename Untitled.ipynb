{
 "cells": [
  {
   "cell_type": "code",
   "execution_count": 1,
   "id": "4f7621ba",
   "metadata": {},
   "outputs": [],
   "source": [
    "# import files\n",
    "import zipfile\n",
    "%matplotlib inline \n",
    "import numpy as np \n",
    "import scipy as sp \n",
    "import matplotlib as mpl\n",
    "import matplotlib.cm as cm \n",
    "import matplotlib.pyplot as plt\n",
    "import pandas as pd \n",
    "pd.set_option('display.width', 500)\n",
    "pd.set_option('display.max_columns', 100)\n",
    "pd.set_option('display.notebook_repr_html', True)\n",
    "import seaborn as sns\n",
    "sns.set(style=\"whitegrid\")\n",
    "import warnings\n",
    "warnings.filterwarnings('ignore')"
   ]
  },
  {
   "cell_type": "code",
   "execution_count": 2,
   "id": "3c7d3c1c",
   "metadata": {},
   "outputs": [],
   "source": [
    "events = pd.read_csv(\"../data/events.csv\")\n",
    "game_info=pd.read_csv(\"../data/ginf.csv\")"
   ]
  },
  {
   "cell_type": "code",
   "execution_count": 3,
   "id": "68c78da3",
   "metadata": {},
   "outputs": [
    {
     "data": {
      "text/html": [
       "<div>\n",
       "<style scoped>\n",
       "    .dataframe tbody tr th:only-of-type {\n",
       "        vertical-align: middle;\n",
       "    }\n",
       "\n",
       "    .dataframe tbody tr th {\n",
       "        vertical-align: top;\n",
       "    }\n",
       "\n",
       "    .dataframe thead th {\n",
       "        text-align: right;\n",
       "    }\n",
       "</style>\n",
       "<table border=\"1\" class=\"dataframe\">\n",
       "  <thead>\n",
       "    <tr style=\"text-align: right;\">\n",
       "      <th></th>\n",
       "      <th>id_odsp</th>\n",
       "      <th>id_event</th>\n",
       "      <th>sort_order</th>\n",
       "      <th>time</th>\n",
       "      <th>text</th>\n",
       "      <th>event_type</th>\n",
       "      <th>event_type2</th>\n",
       "      <th>side</th>\n",
       "      <th>event_team</th>\n",
       "      <th>opponent</th>\n",
       "      <th>player</th>\n",
       "      <th>player2</th>\n",
       "      <th>player_in</th>\n",
       "      <th>player_out</th>\n",
       "      <th>shot_place</th>\n",
       "      <th>shot_outcome</th>\n",
       "      <th>is_goal</th>\n",
       "      <th>location</th>\n",
       "      <th>bodypart</th>\n",
       "      <th>assist_method</th>\n",
       "      <th>situation</th>\n",
       "      <th>fast_break</th>\n",
       "    </tr>\n",
       "  </thead>\n",
       "  <tbody>\n",
       "    <tr>\n",
       "      <th>0</th>\n",
       "      <td>UFot0hit/</td>\n",
       "      <td>UFot0hit1</td>\n",
       "      <td>1</td>\n",
       "      <td>2</td>\n",
       "      <td>Attempt missed. Mladen Petric (Hamburg) left f...</td>\n",
       "      <td>1</td>\n",
       "      <td>12.0</td>\n",
       "      <td>2</td>\n",
       "      <td>Hamburg SV</td>\n",
       "      <td>Borussia Dortmund</td>\n",
       "      <td>mladen petric</td>\n",
       "      <td>gokhan tore</td>\n",
       "      <td>NaN</td>\n",
       "      <td>NaN</td>\n",
       "      <td>6.0</td>\n",
       "      <td>2.0</td>\n",
       "      <td>0</td>\n",
       "      <td>9.0</td>\n",
       "      <td>2.0</td>\n",
       "      <td>1</td>\n",
       "      <td>1.0</td>\n",
       "      <td>0</td>\n",
       "    </tr>\n",
       "    <tr>\n",
       "      <th>1</th>\n",
       "      <td>UFot0hit/</td>\n",
       "      <td>UFot0hit2</td>\n",
       "      <td>2</td>\n",
       "      <td>4</td>\n",
       "      <td>Corner,  Borussia Dortmund. Conceded by Dennis...</td>\n",
       "      <td>2</td>\n",
       "      <td>NaN</td>\n",
       "      <td>1</td>\n",
       "      <td>Borussia Dortmund</td>\n",
       "      <td>Hamburg SV</td>\n",
       "      <td>dennis diekmeier</td>\n",
       "      <td>dennis diekmeier</td>\n",
       "      <td>NaN</td>\n",
       "      <td>NaN</td>\n",
       "      <td>NaN</td>\n",
       "      <td>NaN</td>\n",
       "      <td>0</td>\n",
       "      <td>NaN</td>\n",
       "      <td>NaN</td>\n",
       "      <td>0</td>\n",
       "      <td>NaN</td>\n",
       "      <td>0</td>\n",
       "    </tr>\n",
       "    <tr>\n",
       "      <th>2</th>\n",
       "      <td>UFot0hit/</td>\n",
       "      <td>UFot0hit3</td>\n",
       "      <td>3</td>\n",
       "      <td>4</td>\n",
       "      <td>Corner,  Borussia Dortmund. Conceded by Heiko ...</td>\n",
       "      <td>2</td>\n",
       "      <td>NaN</td>\n",
       "      <td>1</td>\n",
       "      <td>Borussia Dortmund</td>\n",
       "      <td>Hamburg SV</td>\n",
       "      <td>heiko westermann</td>\n",
       "      <td>heiko westermann</td>\n",
       "      <td>NaN</td>\n",
       "      <td>NaN</td>\n",
       "      <td>NaN</td>\n",
       "      <td>NaN</td>\n",
       "      <td>0</td>\n",
       "      <td>NaN</td>\n",
       "      <td>NaN</td>\n",
       "      <td>0</td>\n",
       "      <td>NaN</td>\n",
       "      <td>0</td>\n",
       "    </tr>\n",
       "    <tr>\n",
       "      <th>3</th>\n",
       "      <td>UFot0hit/</td>\n",
       "      <td>UFot0hit4</td>\n",
       "      <td>4</td>\n",
       "      <td>7</td>\n",
       "      <td>Foul by Sven Bender (Borussia Dortmund).</td>\n",
       "      <td>3</td>\n",
       "      <td>NaN</td>\n",
       "      <td>1</td>\n",
       "      <td>Borussia Dortmund</td>\n",
       "      <td>Hamburg SV</td>\n",
       "      <td>sven bender</td>\n",
       "      <td>NaN</td>\n",
       "      <td>NaN</td>\n",
       "      <td>NaN</td>\n",
       "      <td>NaN</td>\n",
       "      <td>NaN</td>\n",
       "      <td>0</td>\n",
       "      <td>NaN</td>\n",
       "      <td>NaN</td>\n",
       "      <td>0</td>\n",
       "      <td>NaN</td>\n",
       "      <td>0</td>\n",
       "    </tr>\n",
       "    <tr>\n",
       "      <th>4</th>\n",
       "      <td>UFot0hit/</td>\n",
       "      <td>UFot0hit5</td>\n",
       "      <td>5</td>\n",
       "      <td>7</td>\n",
       "      <td>Gokhan Tore (Hamburg) wins a free kick in the ...</td>\n",
       "      <td>8</td>\n",
       "      <td>NaN</td>\n",
       "      <td>2</td>\n",
       "      <td>Hamburg SV</td>\n",
       "      <td>Borussia Dortmund</td>\n",
       "      <td>gokhan tore</td>\n",
       "      <td>NaN</td>\n",
       "      <td>NaN</td>\n",
       "      <td>NaN</td>\n",
       "      <td>NaN</td>\n",
       "      <td>NaN</td>\n",
       "      <td>0</td>\n",
       "      <td>2.0</td>\n",
       "      <td>NaN</td>\n",
       "      <td>0</td>\n",
       "      <td>NaN</td>\n",
       "      <td>0</td>\n",
       "    </tr>\n",
       "  </tbody>\n",
       "</table>\n",
       "</div>"
      ],
      "text/plain": [
       "     id_odsp   id_event  sort_order  time                                               text  event_type  event_type2  side         event_team           opponent            player           player2 player_in player_out  shot_place  shot_outcome  is_goal  location  bodypart  assist_method  situation  fast_break\n",
       "0  UFot0hit/  UFot0hit1           1     2  Attempt missed. Mladen Petric (Hamburg) left f...           1         12.0     2         Hamburg SV  Borussia Dortmund     mladen petric       gokhan tore       NaN        NaN         6.0           2.0        0       9.0       2.0              1        1.0           0\n",
       "1  UFot0hit/  UFot0hit2           2     4  Corner,  Borussia Dortmund. Conceded by Dennis...           2          NaN     1  Borussia Dortmund         Hamburg SV  dennis diekmeier  dennis diekmeier       NaN        NaN         NaN           NaN        0       NaN       NaN              0        NaN           0\n",
       "2  UFot0hit/  UFot0hit3           3     4  Corner,  Borussia Dortmund. Conceded by Heiko ...           2          NaN     1  Borussia Dortmund         Hamburg SV  heiko westermann  heiko westermann       NaN        NaN         NaN           NaN        0       NaN       NaN              0        NaN           0\n",
       "3  UFot0hit/  UFot0hit4           4     7           Foul by Sven Bender (Borussia Dortmund).           3          NaN     1  Borussia Dortmund         Hamburg SV       sven bender               NaN       NaN        NaN         NaN           NaN        0       NaN       NaN              0        NaN           0\n",
       "4  UFot0hit/  UFot0hit5           5     7  Gokhan Tore (Hamburg) wins a free kick in the ...           8          NaN     2         Hamburg SV  Borussia Dortmund       gokhan tore               NaN       NaN        NaN         NaN           NaN        0       2.0       NaN              0        NaN           0"
      ]
     },
     "execution_count": 3,
     "metadata": {},
     "output_type": "execute_result"
    }
   ],
   "source": [
    "events.head()"
   ]
  },
  {
   "cell_type": "code",
   "execution_count": 4,
   "id": "17bd6edd",
   "metadata": {},
   "outputs": [
    {
     "name": "stdout",
     "output_type": "stream",
     "text": [
      "<class 'pandas.core.frame.DataFrame'>\n",
      "RangeIndex: 941009 entries, 0 to 941008\n",
      "Data columns (total 22 columns):\n",
      " #   Column         Non-Null Count   Dtype  \n",
      "---  ------         --------------   -----  \n",
      " 0   id_odsp        941009 non-null  object \n",
      " 1   id_event       941009 non-null  object \n",
      " 2   sort_order     941009 non-null  int64  \n",
      " 3   time           941009 non-null  int64  \n",
      " 4   text           941009 non-null  object \n",
      " 5   event_type     941009 non-null  int64  \n",
      " 6   event_type2    214293 non-null  float64\n",
      " 7   side           941009 non-null  int64  \n",
      " 8   event_team     941009 non-null  object \n",
      " 9   opponent       941009 non-null  object \n",
      " 10  player         880009 non-null  object \n",
      " 11  player2        291310 non-null  object \n",
      " 12  player_in      51715 non-null   object \n",
      " 13  player_out     51738 non-null   object \n",
      " 14  shot_place     227459 non-null  float64\n",
      " 15  shot_outcome   228498 non-null  float64\n",
      " 16  is_goal        941009 non-null  int64  \n",
      " 17  location       467067 non-null  float64\n",
      " 18  bodypart       229185 non-null  float64\n",
      " 19  assist_method  941009 non-null  int64  \n",
      " 20  situation      229137 non-null  float64\n",
      " 21  fast_break     941009 non-null  int64  \n",
      "dtypes: float64(6), int64(7), object(9)\n",
      "memory usage: 157.9+ MB\n"
     ]
    }
   ],
   "source": [
    "events.info()"
   ]
  },
  {
   "cell_type": "code",
   "execution_count": 5,
   "id": "c18e3445",
   "metadata": {},
   "outputs": [
    {
     "data": {
      "text/html": [
       "<div>\n",
       "<style scoped>\n",
       "    .dataframe tbody tr th:only-of-type {\n",
       "        vertical-align: middle;\n",
       "    }\n",
       "\n",
       "    .dataframe tbody tr th {\n",
       "        vertical-align: top;\n",
       "    }\n",
       "\n",
       "    .dataframe thead th {\n",
       "        text-align: right;\n",
       "    }\n",
       "</style>\n",
       "<table border=\"1\" class=\"dataframe\">\n",
       "  <thead>\n",
       "    <tr style=\"text-align: right;\">\n",
       "      <th></th>\n",
       "      <th>id_odsp</th>\n",
       "      <th>link_odsp</th>\n",
       "      <th>adv_stats</th>\n",
       "      <th>date</th>\n",
       "      <th>league</th>\n",
       "      <th>season</th>\n",
       "      <th>country</th>\n",
       "      <th>ht</th>\n",
       "      <th>at</th>\n",
       "      <th>fthg</th>\n",
       "      <th>ftag</th>\n",
       "      <th>odd_h</th>\n",
       "      <th>odd_d</th>\n",
       "      <th>odd_a</th>\n",
       "      <th>odd_over</th>\n",
       "      <th>odd_under</th>\n",
       "      <th>odd_bts</th>\n",
       "      <th>odd_bts_n</th>\n",
       "    </tr>\n",
       "  </thead>\n",
       "  <tbody>\n",
       "    <tr>\n",
       "      <th>0</th>\n",
       "      <td>UFot0hit/</td>\n",
       "      <td>/soccer/germany/bundesliga-2011-2012/dortmund-...</td>\n",
       "      <td>True</td>\n",
       "      <td>2011-08-05</td>\n",
       "      <td>D1</td>\n",
       "      <td>2012</td>\n",
       "      <td>germany</td>\n",
       "      <td>Borussia Dortmund</td>\n",
       "      <td>Hamburg SV</td>\n",
       "      <td>3</td>\n",
       "      <td>1</td>\n",
       "      <td>1.56</td>\n",
       "      <td>4.41</td>\n",
       "      <td>7.42</td>\n",
       "      <td>NaN</td>\n",
       "      <td>NaN</td>\n",
       "      <td>NaN</td>\n",
       "      <td>NaN</td>\n",
       "    </tr>\n",
       "    <tr>\n",
       "      <th>1</th>\n",
       "      <td>Aw5DflLH/</td>\n",
       "      <td>/soccer/germany/bundesliga-2011-2012/augsburg-...</td>\n",
       "      <td>True</td>\n",
       "      <td>2011-08-06</td>\n",
       "      <td>D1</td>\n",
       "      <td>2012</td>\n",
       "      <td>germany</td>\n",
       "      <td>FC Augsburg</td>\n",
       "      <td>SC Freiburg</td>\n",
       "      <td>2</td>\n",
       "      <td>2</td>\n",
       "      <td>2.36</td>\n",
       "      <td>3.60</td>\n",
       "      <td>3.40</td>\n",
       "      <td>NaN</td>\n",
       "      <td>NaN</td>\n",
       "      <td>NaN</td>\n",
       "      <td>NaN</td>\n",
       "    </tr>\n",
       "    <tr>\n",
       "      <th>2</th>\n",
       "      <td>bkjpaC6n/</td>\n",
       "      <td>/soccer/germany/bundesliga-2011-2012/werder-br...</td>\n",
       "      <td>True</td>\n",
       "      <td>2011-08-06</td>\n",
       "      <td>D1</td>\n",
       "      <td>2012</td>\n",
       "      <td>germany</td>\n",
       "      <td>Werder Bremen</td>\n",
       "      <td>Kaiserslautern</td>\n",
       "      <td>2</td>\n",
       "      <td>0</td>\n",
       "      <td>1.83</td>\n",
       "      <td>4.20</td>\n",
       "      <td>4.80</td>\n",
       "      <td>NaN</td>\n",
       "      <td>NaN</td>\n",
       "      <td>NaN</td>\n",
       "      <td>NaN</td>\n",
       "    </tr>\n",
       "    <tr>\n",
       "      <th>3</th>\n",
       "      <td>CzPV312a/</td>\n",
       "      <td>/soccer/france/ligue-1-2011-2012/paris-sg-lori...</td>\n",
       "      <td>True</td>\n",
       "      <td>2011-08-06</td>\n",
       "      <td>F1</td>\n",
       "      <td>2012</td>\n",
       "      <td>france</td>\n",
       "      <td>Paris Saint-Germain</td>\n",
       "      <td>Lorient</td>\n",
       "      <td>0</td>\n",
       "      <td>1</td>\n",
       "      <td>1.55</td>\n",
       "      <td>4.50</td>\n",
       "      <td>9.40</td>\n",
       "      <td>NaN</td>\n",
       "      <td>NaN</td>\n",
       "      <td>NaN</td>\n",
       "      <td>NaN</td>\n",
       "    </tr>\n",
       "    <tr>\n",
       "      <th>4</th>\n",
       "      <td>GUOdmtII/</td>\n",
       "      <td>/soccer/france/ligue-1-2011-2012/caen-valencie...</td>\n",
       "      <td>True</td>\n",
       "      <td>2011-08-06</td>\n",
       "      <td>F1</td>\n",
       "      <td>2012</td>\n",
       "      <td>france</td>\n",
       "      <td>Caen</td>\n",
       "      <td>Valenciennes</td>\n",
       "      <td>1</td>\n",
       "      <td>0</td>\n",
       "      <td>2.50</td>\n",
       "      <td>3.40</td>\n",
       "      <td>3.45</td>\n",
       "      <td>NaN</td>\n",
       "      <td>NaN</td>\n",
       "      <td>NaN</td>\n",
       "      <td>NaN</td>\n",
       "    </tr>\n",
       "  </tbody>\n",
       "</table>\n",
       "</div>"
      ],
      "text/plain": [
       "     id_odsp                                          link_odsp  adv_stats        date league  season  country                   ht              at  fthg  ftag  odd_h  odd_d  odd_a  odd_over  odd_under  odd_bts  odd_bts_n\n",
       "0  UFot0hit/  /soccer/germany/bundesliga-2011-2012/dortmund-...       True  2011-08-05     D1    2012  germany    Borussia Dortmund      Hamburg SV     3     1   1.56   4.41   7.42       NaN        NaN      NaN        NaN\n",
       "1  Aw5DflLH/  /soccer/germany/bundesliga-2011-2012/augsburg-...       True  2011-08-06     D1    2012  germany          FC Augsburg     SC Freiburg     2     2   2.36   3.60   3.40       NaN        NaN      NaN        NaN\n",
       "2  bkjpaC6n/  /soccer/germany/bundesliga-2011-2012/werder-br...       True  2011-08-06     D1    2012  germany        Werder Bremen  Kaiserslautern     2     0   1.83   4.20   4.80       NaN        NaN      NaN        NaN\n",
       "3  CzPV312a/  /soccer/france/ligue-1-2011-2012/paris-sg-lori...       True  2011-08-06     F1    2012   france  Paris Saint-Germain         Lorient     0     1   1.55   4.50   9.40       NaN        NaN      NaN        NaN\n",
       "4  GUOdmtII/  /soccer/france/ligue-1-2011-2012/caen-valencie...       True  2011-08-06     F1    2012   france                 Caen    Valenciennes     1     0   2.50   3.40   3.45       NaN        NaN      NaN        NaN"
      ]
     },
     "execution_count": 5,
     "metadata": {},
     "output_type": "execute_result"
    }
   ],
   "source": [
    "game_info.head()"
   ]
  },
  {
   "cell_type": "code",
   "execution_count": 6,
   "id": "fc16c358",
   "metadata": {
    "scrolled": true
   },
   "outputs": [
    {
     "name": "stdout",
     "output_type": "stream",
     "text": [
      "<class 'pandas.core.frame.DataFrame'>\n",
      "RangeIndex: 10112 entries, 0 to 10111\n",
      "Data columns (total 18 columns):\n",
      " #   Column     Non-Null Count  Dtype  \n",
      "---  ------     --------------  -----  \n",
      " 0   id_odsp    10112 non-null  object \n",
      " 1   link_odsp  10112 non-null  object \n",
      " 2   adv_stats  10112 non-null  bool   \n",
      " 3   date       10112 non-null  object \n",
      " 4   league     10112 non-null  object \n",
      " 5   season     10112 non-null  int64  \n",
      " 6   country    10112 non-null  object \n",
      " 7   ht         10112 non-null  object \n",
      " 8   at         10112 non-null  object \n",
      " 9   fthg       10112 non-null  int64  \n",
      " 10  ftag       10112 non-null  int64  \n",
      " 11  odd_h      10112 non-null  float64\n",
      " 12  odd_d      10112 non-null  float64\n",
      " 13  odd_a      10112 non-null  float64\n",
      " 14  odd_over   977 non-null    float64\n",
      " 15  odd_under  977 non-null    float64\n",
      " 16  odd_bts    977 non-null    float64\n",
      " 17  odd_bts_n  977 non-null    float64\n",
      "dtypes: bool(1), float64(7), int64(3), object(7)\n",
      "memory usage: 1.3+ MB\n"
     ]
    }
   ],
   "source": [
    "game_info.info()"
   ]
  },
  {
   "cell_type": "code",
   "execution_count": 7,
   "id": "4b649df5",
   "metadata": {},
   "outputs": [],
   "source": [
    "encoding = pd.read_table('../data/dictionary.txt', delim_whitespace=False, names=('num','events'))\n",
    "event_type=encoding[1:13]\n",
    "event_type_2=encoding[14:18]\n",
    "side=encoding[19:21]\n",
    "shot_place=encoding[22:35]\n",
    "shot_outcome=encoding[36:40]\n",
    "location=encoding[41:60]\n",
    "bodypart=encoding[61:64]\n",
    "assist_method=encoding[65:70]\n",
    "situition=encoding[71:75]\n",
    "# encoding.head()"
   ]
  },
  {
   "cell_type": "code",
   "execution_count": 8,
   "id": "5a41cfe3",
   "metadata": {},
   "outputs": [
    {
     "data": {
      "text/html": [
       "<div>\n",
       "<style scoped>\n",
       "    .dataframe tbody tr th:only-of-type {\n",
       "        vertical-align: middle;\n",
       "    }\n",
       "\n",
       "    .dataframe tbody tr th {\n",
       "        vertical-align: top;\n",
       "    }\n",
       "\n",
       "    .dataframe thead th {\n",
       "        text-align: right;\n",
       "    }\n",
       "</style>\n",
       "<table border=\"1\" class=\"dataframe\">\n",
       "  <thead>\n",
       "    <tr style=\"text-align: right;\">\n",
       "      <th></th>\n",
       "      <th>num</th>\n",
       "      <th>events</th>\n",
       "    </tr>\n",
       "  </thead>\n",
       "  <tbody>\n",
       "    <tr>\n",
       "      <th>1</th>\n",
       "      <td>0</td>\n",
       "      <td>Announcement</td>\n",
       "    </tr>\n",
       "    <tr>\n",
       "      <th>2</th>\n",
       "      <td>1</td>\n",
       "      <td>Attempt</td>\n",
       "    </tr>\n",
       "    <tr>\n",
       "      <th>3</th>\n",
       "      <td>2</td>\n",
       "      <td>Corner</td>\n",
       "    </tr>\n",
       "    <tr>\n",
       "      <th>4</th>\n",
       "      <td>3</td>\n",
       "      <td>Foul</td>\n",
       "    </tr>\n",
       "    <tr>\n",
       "      <th>5</th>\n",
       "      <td>4</td>\n",
       "      <td>Yellow card</td>\n",
       "    </tr>\n",
       "    <tr>\n",
       "      <th>6</th>\n",
       "      <td>5</td>\n",
       "      <td>Second yellow card</td>\n",
       "    </tr>\n",
       "    <tr>\n",
       "      <th>7</th>\n",
       "      <td>6</td>\n",
       "      <td>Red card</td>\n",
       "    </tr>\n",
       "    <tr>\n",
       "      <th>8</th>\n",
       "      <td>7</td>\n",
       "      <td>Substitution</td>\n",
       "    </tr>\n",
       "    <tr>\n",
       "      <th>9</th>\n",
       "      <td>8</td>\n",
       "      <td>Free kick won</td>\n",
       "    </tr>\n",
       "    <tr>\n",
       "      <th>10</th>\n",
       "      <td>9</td>\n",
       "      <td>Offside</td>\n",
       "    </tr>\n",
       "    <tr>\n",
       "      <th>11</th>\n",
       "      <td>10</td>\n",
       "      <td>Hand ball</td>\n",
       "    </tr>\n",
       "    <tr>\n",
       "      <th>12</th>\n",
       "      <td>11</td>\n",
       "      <td>Penalty conceded</td>\n",
       "    </tr>\n",
       "  </tbody>\n",
       "</table>\n",
       "</div>"
      ],
      "text/plain": [
       "   num              events\n",
       "1    0        Announcement\n",
       "2    1             Attempt\n",
       "3    2              Corner\n",
       "4    3                Foul\n",
       "5    4         Yellow card\n",
       "6    5  Second yellow card\n",
       "7    6            Red card\n",
       "8    7        Substitution\n",
       "9    8       Free kick won\n",
       "10   9             Offside\n",
       "11  10           Hand ball\n",
       "12  11    Penalty conceded"
      ]
     },
     "execution_count": 8,
     "metadata": {},
     "output_type": "execute_result"
    }
   ],
   "source": [
    "event_type"
   ]
  },
  {
   "cell_type": "code",
   "execution_count": 9,
   "id": "d8ca0657",
   "metadata": {
    "scrolled": true
   },
   "outputs": [
    {
     "data": {
      "text/html": [
       "<div>\n",
       "<style scoped>\n",
       "    .dataframe tbody tr th:only-of-type {\n",
       "        vertical-align: middle;\n",
       "    }\n",
       "\n",
       "    .dataframe tbody tr th {\n",
       "        vertical-align: top;\n",
       "    }\n",
       "\n",
       "    .dataframe thead th {\n",
       "        text-align: right;\n",
       "    }\n",
       "</style>\n",
       "<table border=\"1\" class=\"dataframe\">\n",
       "  <thead>\n",
       "    <tr style=\"text-align: right;\">\n",
       "      <th></th>\n",
       "      <th>num</th>\n",
       "      <th>events</th>\n",
       "    </tr>\n",
       "  </thead>\n",
       "  <tbody>\n",
       "    <tr>\n",
       "      <th>14</th>\n",
       "      <td>12</td>\n",
       "      <td>Key Pass</td>\n",
       "    </tr>\n",
       "    <tr>\n",
       "      <th>15</th>\n",
       "      <td>13</td>\n",
       "      <td>Failed through ball</td>\n",
       "    </tr>\n",
       "    <tr>\n",
       "      <th>16</th>\n",
       "      <td>14</td>\n",
       "      <td>Sending off</td>\n",
       "    </tr>\n",
       "    <tr>\n",
       "      <th>17</th>\n",
       "      <td>15</td>\n",
       "      <td>Own goal</td>\n",
       "    </tr>\n",
       "  </tbody>\n",
       "</table>\n",
       "</div>"
      ],
      "text/plain": [
       "   num               events\n",
       "14  12             Key Pass\n",
       "15  13  Failed through ball\n",
       "16  14          Sending off\n",
       "17  15             Own goal"
      ]
     },
     "execution_count": 9,
     "metadata": {},
     "output_type": "execute_result"
    }
   ],
   "source": [
    "event_type_2"
   ]
  },
  {
   "cell_type": "code",
   "execution_count": 10,
   "id": "f7551ded",
   "metadata": {},
   "outputs": [
    {
     "data": {
      "text/html": [
       "<div>\n",
       "<style scoped>\n",
       "    .dataframe tbody tr th:only-of-type {\n",
       "        vertical-align: middle;\n",
       "    }\n",
       "\n",
       "    .dataframe tbody tr th {\n",
       "        vertical-align: top;\n",
       "    }\n",
       "\n",
       "    .dataframe thead th {\n",
       "        text-align: right;\n",
       "    }\n",
       "</style>\n",
       "<table border=\"1\" class=\"dataframe\">\n",
       "  <thead>\n",
       "    <tr style=\"text-align: right;\">\n",
       "      <th></th>\n",
       "      <th>num</th>\n",
       "      <th>events</th>\n",
       "    </tr>\n",
       "  </thead>\n",
       "  <tbody>\n",
       "    <tr>\n",
       "      <th>19</th>\n",
       "      <td>1</td>\n",
       "      <td>Home</td>\n",
       "    </tr>\n",
       "    <tr>\n",
       "      <th>20</th>\n",
       "      <td>2</td>\n",
       "      <td>Away</td>\n",
       "    </tr>\n",
       "  </tbody>\n",
       "</table>\n",
       "</div>"
      ],
      "text/plain": [
       "   num events\n",
       "19   1   Home\n",
       "20   2   Away"
      ]
     },
     "execution_count": 10,
     "metadata": {},
     "output_type": "execute_result"
    }
   ],
   "source": [
    "side"
   ]
  },
  {
   "cell_type": "code",
   "execution_count": 11,
   "id": "e0825fdb",
   "metadata": {
    "scrolled": true
   },
   "outputs": [
    {
     "data": {
      "text/html": [
       "<div>\n",
       "<style scoped>\n",
       "    .dataframe tbody tr th:only-of-type {\n",
       "        vertical-align: middle;\n",
       "    }\n",
       "\n",
       "    .dataframe tbody tr th {\n",
       "        vertical-align: top;\n",
       "    }\n",
       "\n",
       "    .dataframe thead th {\n",
       "        text-align: right;\n",
       "    }\n",
       "</style>\n",
       "<table border=\"1\" class=\"dataframe\">\n",
       "  <thead>\n",
       "    <tr style=\"text-align: right;\">\n",
       "      <th></th>\n",
       "      <th>num</th>\n",
       "      <th>events</th>\n",
       "    </tr>\n",
       "  </thead>\n",
       "  <tbody>\n",
       "    <tr>\n",
       "      <th>22</th>\n",
       "      <td>1</td>\n",
       "      <td>Bit too high</td>\n",
       "    </tr>\n",
       "    <tr>\n",
       "      <th>23</th>\n",
       "      <td>2</td>\n",
       "      <td>Blocked</td>\n",
       "    </tr>\n",
       "    <tr>\n",
       "      <th>24</th>\n",
       "      <td>3</td>\n",
       "      <td>Bottom left corner</td>\n",
       "    </tr>\n",
       "    <tr>\n",
       "      <th>25</th>\n",
       "      <td>4</td>\n",
       "      <td>Bottom right corner</td>\n",
       "    </tr>\n",
       "    <tr>\n",
       "      <th>26</th>\n",
       "      <td>5</td>\n",
       "      <td>Centre of the goal</td>\n",
       "    </tr>\n",
       "    <tr>\n",
       "      <th>27</th>\n",
       "      <td>6</td>\n",
       "      <td>High and wide</td>\n",
       "    </tr>\n",
       "    <tr>\n",
       "      <th>28</th>\n",
       "      <td>7</td>\n",
       "      <td>Hits the bar</td>\n",
       "    </tr>\n",
       "    <tr>\n",
       "      <th>29</th>\n",
       "      <td>8</td>\n",
       "      <td>Misses to the left</td>\n",
       "    </tr>\n",
       "    <tr>\n",
       "      <th>30</th>\n",
       "      <td>9</td>\n",
       "      <td>Misses to the right</td>\n",
       "    </tr>\n",
       "    <tr>\n",
       "      <th>31</th>\n",
       "      <td>10</td>\n",
       "      <td>Too high</td>\n",
       "    </tr>\n",
       "    <tr>\n",
       "      <th>32</th>\n",
       "      <td>11</td>\n",
       "      <td>Top centre of the goal</td>\n",
       "    </tr>\n",
       "    <tr>\n",
       "      <th>33</th>\n",
       "      <td>12</td>\n",
       "      <td>Top left corner</td>\n",
       "    </tr>\n",
       "    <tr>\n",
       "      <th>34</th>\n",
       "      <td>13</td>\n",
       "      <td>Top right corner</td>\n",
       "    </tr>\n",
       "  </tbody>\n",
       "</table>\n",
       "</div>"
      ],
      "text/plain": [
       "   num                  events\n",
       "22   1            Bit too high\n",
       "23   2                 Blocked\n",
       "24   3      Bottom left corner\n",
       "25   4     Bottom right corner\n",
       "26   5      Centre of the goal\n",
       "27   6           High and wide\n",
       "28   7            Hits the bar\n",
       "29   8      Misses to the left\n",
       "30   9     Misses to the right\n",
       "31  10                Too high\n",
       "32  11  Top centre of the goal\n",
       "33  12         Top left corner\n",
       "34  13        Top right corner"
      ]
     },
     "execution_count": 11,
     "metadata": {},
     "output_type": "execute_result"
    }
   ],
   "source": [
    "shot_place"
   ]
  },
  {
   "cell_type": "code",
   "execution_count": 12,
   "id": "c6b4b0b7",
   "metadata": {},
   "outputs": [
    {
     "data": {
      "text/html": [
       "<div>\n",
       "<style scoped>\n",
       "    .dataframe tbody tr th:only-of-type {\n",
       "        vertical-align: middle;\n",
       "    }\n",
       "\n",
       "    .dataframe tbody tr th {\n",
       "        vertical-align: top;\n",
       "    }\n",
       "\n",
       "    .dataframe thead th {\n",
       "        text-align: right;\n",
       "    }\n",
       "</style>\n",
       "<table border=\"1\" class=\"dataframe\">\n",
       "  <thead>\n",
       "    <tr style=\"text-align: right;\">\n",
       "      <th></th>\n",
       "      <th>num</th>\n",
       "      <th>events</th>\n",
       "    </tr>\n",
       "  </thead>\n",
       "  <tbody>\n",
       "    <tr>\n",
       "      <th>36</th>\n",
       "      <td>1</td>\n",
       "      <td>On target</td>\n",
       "    </tr>\n",
       "    <tr>\n",
       "      <th>37</th>\n",
       "      <td>2</td>\n",
       "      <td>Off target</td>\n",
       "    </tr>\n",
       "    <tr>\n",
       "      <th>38</th>\n",
       "      <td>3</td>\n",
       "      <td>Blocked</td>\n",
       "    </tr>\n",
       "    <tr>\n",
       "      <th>39</th>\n",
       "      <td>4</td>\n",
       "      <td>Hit the bar</td>\n",
       "    </tr>\n",
       "  </tbody>\n",
       "</table>\n",
       "</div>"
      ],
      "text/plain": [
       "   num       events\n",
       "36   1    On target\n",
       "37   2   Off target\n",
       "38   3      Blocked\n",
       "39   4  Hit the bar"
      ]
     },
     "execution_count": 12,
     "metadata": {},
     "output_type": "execute_result"
    }
   ],
   "source": [
    "shot_outcome"
   ]
  },
  {
   "cell_type": "code",
   "execution_count": 13,
   "id": "0abff331",
   "metadata": {},
   "outputs": [
    {
     "data": {
      "text/html": [
       "<div>\n",
       "<style scoped>\n",
       "    .dataframe tbody tr th:only-of-type {\n",
       "        vertical-align: middle;\n",
       "    }\n",
       "\n",
       "    .dataframe tbody tr th {\n",
       "        vertical-align: top;\n",
       "    }\n",
       "\n",
       "    .dataframe thead th {\n",
       "        text-align: right;\n",
       "    }\n",
       "</style>\n",
       "<table border=\"1\" class=\"dataframe\">\n",
       "  <thead>\n",
       "    <tr style=\"text-align: right;\">\n",
       "      <th></th>\n",
       "      <th>num</th>\n",
       "      <th>events</th>\n",
       "    </tr>\n",
       "  </thead>\n",
       "  <tbody>\n",
       "    <tr>\n",
       "      <th>41</th>\n",
       "      <td>1</td>\n",
       "      <td>Attacking half</td>\n",
       "    </tr>\n",
       "    <tr>\n",
       "      <th>42</th>\n",
       "      <td>2</td>\n",
       "      <td>Defensive half</td>\n",
       "    </tr>\n",
       "    <tr>\n",
       "      <th>43</th>\n",
       "      <td>3</td>\n",
       "      <td>Centre of the box</td>\n",
       "    </tr>\n",
       "    <tr>\n",
       "      <th>44</th>\n",
       "      <td>4</td>\n",
       "      <td>Left wing</td>\n",
       "    </tr>\n",
       "    <tr>\n",
       "      <th>45</th>\n",
       "      <td>5</td>\n",
       "      <td>Right wing</td>\n",
       "    </tr>\n",
       "    <tr>\n",
       "      <th>46</th>\n",
       "      <td>6</td>\n",
       "      <td>Difficult angle and long range</td>\n",
       "    </tr>\n",
       "    <tr>\n",
       "      <th>47</th>\n",
       "      <td>7</td>\n",
       "      <td>Difficult angle on the left</td>\n",
       "    </tr>\n",
       "    <tr>\n",
       "      <th>48</th>\n",
       "      <td>8</td>\n",
       "      <td>Difficult angle on the right</td>\n",
       "    </tr>\n",
       "    <tr>\n",
       "      <th>49</th>\n",
       "      <td>9</td>\n",
       "      <td>Left side of the box</td>\n",
       "    </tr>\n",
       "    <tr>\n",
       "      <th>50</th>\n",
       "      <td>10</td>\n",
       "      <td>Left side of the six yard box</td>\n",
       "    </tr>\n",
       "    <tr>\n",
       "      <th>51</th>\n",
       "      <td>11</td>\n",
       "      <td>Right side of the box</td>\n",
       "    </tr>\n",
       "    <tr>\n",
       "      <th>52</th>\n",
       "      <td>12</td>\n",
       "      <td>Right side of the six yard box</td>\n",
       "    </tr>\n",
       "    <tr>\n",
       "      <th>53</th>\n",
       "      <td>13</td>\n",
       "      <td>Very close range</td>\n",
       "    </tr>\n",
       "    <tr>\n",
       "      <th>54</th>\n",
       "      <td>14</td>\n",
       "      <td>Penalty spot</td>\n",
       "    </tr>\n",
       "    <tr>\n",
       "      <th>55</th>\n",
       "      <td>15</td>\n",
       "      <td>Outside the box</td>\n",
       "    </tr>\n",
       "    <tr>\n",
       "      <th>56</th>\n",
       "      <td>16</td>\n",
       "      <td>Long range</td>\n",
       "    </tr>\n",
       "    <tr>\n",
       "      <th>57</th>\n",
       "      <td>17</td>\n",
       "      <td>More than 35 yards</td>\n",
       "    </tr>\n",
       "    <tr>\n",
       "      <th>58</th>\n",
       "      <td>18</td>\n",
       "      <td>More than 40 yards</td>\n",
       "    </tr>\n",
       "    <tr>\n",
       "      <th>59</th>\n",
       "      <td>19</td>\n",
       "      <td>Not recorded</td>\n",
       "    </tr>\n",
       "  </tbody>\n",
       "</table>\n",
       "</div>"
      ],
      "text/plain": [
       "   num                          events\n",
       "41   1                  Attacking half\n",
       "42   2                  Defensive half\n",
       "43   3               Centre of the box\n",
       "44   4                       Left wing\n",
       "45   5                      Right wing\n",
       "46   6  Difficult angle and long range\n",
       "47   7     Difficult angle on the left\n",
       "48   8    Difficult angle on the right\n",
       "49   9            Left side of the box\n",
       "50  10   Left side of the six yard box\n",
       "51  11           Right side of the box\n",
       "52  12  Right side of the six yard box\n",
       "53  13                Very close range\n",
       "54  14                    Penalty spot\n",
       "55  15                 Outside the box\n",
       "56  16                      Long range\n",
       "57  17              More than 35 yards\n",
       "58  18              More than 40 yards\n",
       "59  19                    Not recorded"
      ]
     },
     "execution_count": 13,
     "metadata": {},
     "output_type": "execute_result"
    }
   ],
   "source": [
    "location"
   ]
  },
  {
   "cell_type": "code",
   "execution_count": 14,
   "id": "f0e0c7e3",
   "metadata": {},
   "outputs": [
    {
     "data": {
      "text/html": [
       "<div>\n",
       "<style scoped>\n",
       "    .dataframe tbody tr th:only-of-type {\n",
       "        vertical-align: middle;\n",
       "    }\n",
       "\n",
       "    .dataframe tbody tr th {\n",
       "        vertical-align: top;\n",
       "    }\n",
       "\n",
       "    .dataframe thead th {\n",
       "        text-align: right;\n",
       "    }\n",
       "</style>\n",
       "<table border=\"1\" class=\"dataframe\">\n",
       "  <thead>\n",
       "    <tr style=\"text-align: right;\">\n",
       "      <th></th>\n",
       "      <th>num</th>\n",
       "      <th>events</th>\n",
       "    </tr>\n",
       "  </thead>\n",
       "  <tbody>\n",
       "    <tr>\n",
       "      <th>61</th>\n",
       "      <td>1</td>\n",
       "      <td>right foot</td>\n",
       "    </tr>\n",
       "    <tr>\n",
       "      <th>62</th>\n",
       "      <td>2</td>\n",
       "      <td>left foot</td>\n",
       "    </tr>\n",
       "    <tr>\n",
       "      <th>63</th>\n",
       "      <td>3</td>\n",
       "      <td>head</td>\n",
       "    </tr>\n",
       "  </tbody>\n",
       "</table>\n",
       "</div>"
      ],
      "text/plain": [
       "   num      events\n",
       "61   1  right foot\n",
       "62   2   left foot\n",
       "63   3        head"
      ]
     },
     "execution_count": 14,
     "metadata": {},
     "output_type": "execute_result"
    }
   ],
   "source": [
    "bodypart"
   ]
  },
  {
   "cell_type": "code",
   "execution_count": 15,
   "id": "4388aa89",
   "metadata": {},
   "outputs": [
    {
     "data": {
      "text/html": [
       "<div>\n",
       "<style scoped>\n",
       "    .dataframe tbody tr th:only-of-type {\n",
       "        vertical-align: middle;\n",
       "    }\n",
       "\n",
       "    .dataframe tbody tr th {\n",
       "        vertical-align: top;\n",
       "    }\n",
       "\n",
       "    .dataframe thead th {\n",
       "        text-align: right;\n",
       "    }\n",
       "</style>\n",
       "<table border=\"1\" class=\"dataframe\">\n",
       "  <thead>\n",
       "    <tr style=\"text-align: right;\">\n",
       "      <th></th>\n",
       "      <th>num</th>\n",
       "      <th>events</th>\n",
       "    </tr>\n",
       "  </thead>\n",
       "  <tbody>\n",
       "    <tr>\n",
       "      <th>65</th>\n",
       "      <td>0</td>\n",
       "      <td>None</td>\n",
       "    </tr>\n",
       "    <tr>\n",
       "      <th>66</th>\n",
       "      <td>1</td>\n",
       "      <td>Pass</td>\n",
       "    </tr>\n",
       "    <tr>\n",
       "      <th>67</th>\n",
       "      <td>2</td>\n",
       "      <td>Cross</td>\n",
       "    </tr>\n",
       "    <tr>\n",
       "      <th>68</th>\n",
       "      <td>3</td>\n",
       "      <td>Headed pass</td>\n",
       "    </tr>\n",
       "    <tr>\n",
       "      <th>69</th>\n",
       "      <td>4</td>\n",
       "      <td>Through ball</td>\n",
       "    </tr>\n",
       "  </tbody>\n",
       "</table>\n",
       "</div>"
      ],
      "text/plain": [
       "   num        events\n",
       "65   0          None\n",
       "66   1          Pass\n",
       "67   2         Cross\n",
       "68   3   Headed pass\n",
       "69   4  Through ball"
      ]
     },
     "execution_count": 15,
     "metadata": {},
     "output_type": "execute_result"
    }
   ],
   "source": [
    "assist_method"
   ]
  },
  {
   "cell_type": "code",
   "execution_count": 16,
   "id": "eec7af81",
   "metadata": {},
   "outputs": [
    {
     "data": {
      "text/html": [
       "<div>\n",
       "<style scoped>\n",
       "    .dataframe tbody tr th:only-of-type {\n",
       "        vertical-align: middle;\n",
       "    }\n",
       "\n",
       "    .dataframe tbody tr th {\n",
       "        vertical-align: top;\n",
       "    }\n",
       "\n",
       "    .dataframe thead th {\n",
       "        text-align: right;\n",
       "    }\n",
       "</style>\n",
       "<table border=\"1\" class=\"dataframe\">\n",
       "  <thead>\n",
       "    <tr style=\"text-align: right;\">\n",
       "      <th></th>\n",
       "      <th>num</th>\n",
       "      <th>events</th>\n",
       "    </tr>\n",
       "  </thead>\n",
       "  <tbody>\n",
       "    <tr>\n",
       "      <th>71</th>\n",
       "      <td>1</td>\n",
       "      <td>Open play</td>\n",
       "    </tr>\n",
       "    <tr>\n",
       "      <th>72</th>\n",
       "      <td>2</td>\n",
       "      <td>Set piece</td>\n",
       "    </tr>\n",
       "    <tr>\n",
       "      <th>73</th>\n",
       "      <td>3</td>\n",
       "      <td>Corner</td>\n",
       "    </tr>\n",
       "    <tr>\n",
       "      <th>74</th>\n",
       "      <td>4</td>\n",
       "      <td>Free kick</td>\n",
       "    </tr>\n",
       "  </tbody>\n",
       "</table>\n",
       "</div>"
      ],
      "text/plain": [
       "   num     events\n",
       "71   1  Open play\n",
       "72   2  Set piece\n",
       "73   3     Corner\n",
       "74   4  Free kick"
      ]
     },
     "execution_count": 16,
     "metadata": {},
     "output_type": "execute_result"
    }
   ],
   "source": [
    "situition"
   ]
  },
  {
   "cell_type": "code",
   "execution_count": 17,
   "id": "43abc09b",
   "metadata": {},
   "outputs": [
    {
     "data": {
      "text/html": [
       "<div>\n",
       "<style scoped>\n",
       "    .dataframe tbody tr th:only-of-type {\n",
       "        vertical-align: middle;\n",
       "    }\n",
       "\n",
       "    .dataframe tbody tr th {\n",
       "        vertical-align: top;\n",
       "    }\n",
       "\n",
       "    .dataframe thead th {\n",
       "        text-align: right;\n",
       "    }\n",
       "</style>\n",
       "<table border=\"1\" class=\"dataframe\">\n",
       "  <thead>\n",
       "    <tr style=\"text-align: right;\">\n",
       "      <th></th>\n",
       "      <th>id_odsp</th>\n",
       "      <th>id_event</th>\n",
       "      <th>sort_order</th>\n",
       "      <th>time</th>\n",
       "      <th>text</th>\n",
       "      <th>event_type</th>\n",
       "      <th>event_type2</th>\n",
       "      <th>side</th>\n",
       "      <th>event_team</th>\n",
       "      <th>opponent</th>\n",
       "      <th>player</th>\n",
       "      <th>player2</th>\n",
       "      <th>player_in</th>\n",
       "      <th>player_out</th>\n",
       "      <th>shot_place</th>\n",
       "      <th>shot_outcome</th>\n",
       "      <th>is_goal</th>\n",
       "      <th>location</th>\n",
       "      <th>bodypart</th>\n",
       "      <th>assist_method</th>\n",
       "      <th>situation</th>\n",
       "      <th>fast_break</th>\n",
       "    </tr>\n",
       "  </thead>\n",
       "  <tbody>\n",
       "    <tr>\n",
       "      <th>13</th>\n",
       "      <td>UFot0hit/</td>\n",
       "      <td>UFot0hit14</td>\n",
       "      <td>14</td>\n",
       "      <td>17</td>\n",
       "      <td>Goal!  Borussia Dortmund 1, Hamburg 0. Kevin G...</td>\n",
       "      <td>1</td>\n",
       "      <td>12.0</td>\n",
       "      <td>1</td>\n",
       "      <td>Borussia Dortmund</td>\n",
       "      <td>Hamburg SV</td>\n",
       "      <td>kevin grosskreutz</td>\n",
       "      <td>mario gotze</td>\n",
       "      <td>NaN</td>\n",
       "      <td>NaN</td>\n",
       "      <td>4.0</td>\n",
       "      <td>1.0</td>\n",
       "      <td>1</td>\n",
       "      <td>9.0</td>\n",
       "      <td>2.0</td>\n",
       "      <td>1</td>\n",
       "      <td>1.0</td>\n",
       "      <td>0</td>\n",
       "    </tr>\n",
       "    <tr>\n",
       "      <th>26</th>\n",
       "      <td>UFot0hit/</td>\n",
       "      <td>UFot0hit27</td>\n",
       "      <td>27</td>\n",
       "      <td>29</td>\n",
       "      <td>Goal!  Borussia Dortmund 2, Hamburg 0. Mario G...</td>\n",
       "      <td>1</td>\n",
       "      <td>12.0</td>\n",
       "      <td>1</td>\n",
       "      <td>Borussia Dortmund</td>\n",
       "      <td>Hamburg SV</td>\n",
       "      <td>mario gotze</td>\n",
       "      <td>robert lewandowski</td>\n",
       "      <td>NaN</td>\n",
       "      <td>NaN</td>\n",
       "      <td>5.0</td>\n",
       "      <td>1.0</td>\n",
       "      <td>1</td>\n",
       "      <td>3.0</td>\n",
       "      <td>1.0</td>\n",
       "      <td>1</td>\n",
       "      <td>1.0</td>\n",
       "      <td>0</td>\n",
       "    </tr>\n",
       "    <tr>\n",
       "      <th>50</th>\n",
       "      <td>UFot0hit/</td>\n",
       "      <td>UFot0hit51</td>\n",
       "      <td>51</td>\n",
       "      <td>49</td>\n",
       "      <td>Goal!  Borussia Dortmund 3, Hamburg 0. Kevin G...</td>\n",
       "      <td>1</td>\n",
       "      <td>NaN</td>\n",
       "      <td>1</td>\n",
       "      <td>Borussia Dortmund</td>\n",
       "      <td>Hamburg SV</td>\n",
       "      <td>kevin grosskreutz</td>\n",
       "      <td>NaN</td>\n",
       "      <td>NaN</td>\n",
       "      <td>NaN</td>\n",
       "      <td>4.0</td>\n",
       "      <td>1.0</td>\n",
       "      <td>1</td>\n",
       "      <td>13.0</td>\n",
       "      <td>1.0</td>\n",
       "      <td>0</td>\n",
       "      <td>3.0</td>\n",
       "      <td>0</td>\n",
       "    </tr>\n",
       "    <tr>\n",
       "      <th>92</th>\n",
       "      <td>UFot0hit/</td>\n",
       "      <td>UFot0hit93</td>\n",
       "      <td>93</td>\n",
       "      <td>80</td>\n",
       "      <td>Goal!  Borussia Dortmund 3, Hamburg 1. Robert ...</td>\n",
       "      <td>1</td>\n",
       "      <td>NaN</td>\n",
       "      <td>2</td>\n",
       "      <td>Hamburg SV</td>\n",
       "      <td>Borussia Dortmund</td>\n",
       "      <td>robert tesche</td>\n",
       "      <td>NaN</td>\n",
       "      <td>NaN</td>\n",
       "      <td>NaN</td>\n",
       "      <td>3.0</td>\n",
       "      <td>1.0</td>\n",
       "      <td>1</td>\n",
       "      <td>3.0</td>\n",
       "      <td>2.0</td>\n",
       "      <td>0</td>\n",
       "      <td>3.0</td>\n",
       "      <td>0</td>\n",
       "    </tr>\n",
       "    <tr>\n",
       "      <th>175</th>\n",
       "      <td>Aw5DflLH/</td>\n",
       "      <td>Aw5DflLH66</td>\n",
       "      <td>66</td>\n",
       "      <td>48</td>\n",
       "      <td>Goal!  FC Augsburg 0, SC Freiburg 1. Papiss De...</td>\n",
       "      <td>1</td>\n",
       "      <td>12.0</td>\n",
       "      <td>2</td>\n",
       "      <td>SC Freiburg</td>\n",
       "      <td>FC Augsburg</td>\n",
       "      <td>papiss demba cisse</td>\n",
       "      <td>felix bastians</td>\n",
       "      <td>NaN</td>\n",
       "      <td>NaN</td>\n",
       "      <td>3.0</td>\n",
       "      <td>1.0</td>\n",
       "      <td>1</td>\n",
       "      <td>15.0</td>\n",
       "      <td>1.0</td>\n",
       "      <td>1</td>\n",
       "      <td>1.0</td>\n",
       "      <td>1</td>\n",
       "    </tr>\n",
       "  </tbody>\n",
       "</table>\n",
       "</div>"
      ],
      "text/plain": [
       "       id_odsp    id_event  sort_order  time                                               text  event_type  event_type2  side         event_team           opponent              player             player2 player_in player_out  shot_place  shot_outcome  is_goal  location  bodypart  assist_method  situation  fast_break\n",
       "13   UFot0hit/  UFot0hit14          14    17  Goal!  Borussia Dortmund 1, Hamburg 0. Kevin G...           1         12.0     1  Borussia Dortmund         Hamburg SV   kevin grosskreutz         mario gotze       NaN        NaN         4.0           1.0        1       9.0       2.0              1        1.0           0\n",
       "26   UFot0hit/  UFot0hit27          27    29  Goal!  Borussia Dortmund 2, Hamburg 0. Mario G...           1         12.0     1  Borussia Dortmund         Hamburg SV         mario gotze  robert lewandowski       NaN        NaN         5.0           1.0        1       3.0       1.0              1        1.0           0\n",
       "50   UFot0hit/  UFot0hit51          51    49  Goal!  Borussia Dortmund 3, Hamburg 0. Kevin G...           1          NaN     1  Borussia Dortmund         Hamburg SV   kevin grosskreutz                 NaN       NaN        NaN         4.0           1.0        1      13.0       1.0              0        3.0           0\n",
       "92   UFot0hit/  UFot0hit93          93    80  Goal!  Borussia Dortmund 3, Hamburg 1. Robert ...           1          NaN     2         Hamburg SV  Borussia Dortmund       robert tesche                 NaN       NaN        NaN         3.0           1.0        1       3.0       2.0              0        3.0           0\n",
       "175  Aw5DflLH/  Aw5DflLH66          66    48  Goal!  FC Augsburg 0, SC Freiburg 1. Papiss De...           1         12.0     2        SC Freiburg        FC Augsburg  papiss demba cisse      felix bastians       NaN        NaN         3.0           1.0        1      15.0       1.0              1        1.0           1"
      ]
     },
     "execution_count": 17,
     "metadata": {},
     "output_type": "execute_result"
    }
   ],
   "source": [
    "# Analysis goals scored\n",
    "goals=events[events[\"is_goal\"]==1]\n",
    "goals.head()"
   ]
  },
  {
   "cell_type": "code",
   "execution_count": 18,
   "id": "b103887e",
   "metadata": {},
   "outputs": [
    {
     "data": {
      "text/plain": [
       "Text(0.5, 1.0, 'Number of goals against Time during match')"
      ]
     },
     "execution_count": 18,
     "metadata": {},
     "output_type": "execute_result"
    },
    {
     "data": {
      "image/png": "[encoded data removed]",
      "text/plain": [
       "<Figure size 576x432 with 1 Axes>"
      ]
     },
     "metadata": {},
     "output_type": "display_data"
    }
   ],
   "source": [
    "# Analysis goals against time\n",
    "fig=plt.figure(figsize=(8,6))\n",
    "plt.hist(goals.time,width=1,bins=100,color=\"#33cccc\")   #100 so 1 bar per minute\n",
    "plt.xlabel(\"Minutes\")\n",
    "plt.ylabel(\"Number of goals\")\n",
    "plt.title(\"Number of goals against Time during match\")"
   ]
  },
  {
   "cell_type": "code",
   "execution_count": 19,
   "id": "78c73596",
   "metadata": {},
   "outputs": [
    {
     "data": {
      "text/plain": [
       "Text(0.5, 1.0, 'Number of goals (by home/away side) against Time during match')"
      ]
     },
     "execution_count": 19,
     "metadata": {},
     "output_type": "execute_result"
    },
    {
     "data": {
      "image/png": "[encoded data removed]",
      "text/plain": [
       "<Figure size 576x432 with 1 Axes>"
      ]
     },
     "metadata": {},
     "output_type": "display_data"
    }
   ],
   "source": [
    "# Analaysis Home/Away goals\n",
    "fig=plt.figure(figsize=(8,6))\n",
    "plt.hist(goals[goals[\"side\"]==1][\"time\"],width=1,bins=100,color=\"#ffbf00\",label=\"home goals\")   \n",
    "plt.hist(goals[goals[\"side\"]==2][\"time\"],width=1,bins=100,color=\"#3399ff\",label=\"away goals\") \n",
    "plt.xlabel(\"Minutes\")\n",
    "plt.ylabel(\"Number of goals\")\n",
    "plt.legend()\n",
    "plt.title(\"Number of goals (by home/away side) against Time during match\")"
   ]
  },
  {
   "cell_type": "code",
   "execution_count": 20,
   "id": "5c9e35d0",
   "metadata": {
    "scrolled": true
   },
   "outputs": [
    {
     "name": "stderr",
     "output_type": "stream",
     "text": [
      "findfont: Font family ['Times New Roman Bold'] not found. Falling back to DejaVu Sans.\n"
     ]
    },
    {
     "data": {
      "image/png": "[encoded data removed]",
      "text/plain": [
       "<Figure size 720x720 with 2 Axes>"
      ]
     },
     "metadata": {},
     "output_type": "display_data"
    }
   ],
   "source": [
    "#Analysing HOW and WHERE goals are scored\n",
    "plt.subplot(2,1,1)\n",
    "labels=[\"Right Foot\",\"Left Foot\",\"Headers\"]\n",
    "sizes=[goals[goals[\"bodypart\"]==1].shape[0],goals[goals[\"bodypart\"]==2].shape[0],goals[goals[\"bodypart\"]==3].shape[0]]\n",
    "colors=[\"#ffbf00\",\"#00ff00\",\"#3399ff\"]\n",
    "plt.pie(sizes,labels=labels,colors=colors,autopct='%1.1f%%',startangle=60)\n",
    "plt.axis('equal')\n",
    "plt.title(\"Percentage of bodyparts for goals\",fontname=\"Times New Roman Bold\",fontsize=14,fontweight=\"bold\")\n",
    "fig=plt.gcf() \n",
    "fig.set_size_inches(10,10)\n",
    "\n",
    "\n",
    "plt.subplot(2,1,2)\n",
    "plt.hist(goals[goals[\"bodypart\"]==1][\"time\"],width=1,bins=100,color=\"#ffbf00\",label=\"Right foot\")   \n",
    "plt.hist(goals[goals[\"bodypart\"]==2][\"time\"],width=1,bins=100,color=\"#00ff00\",label=\"Left foot\") \n",
    "plt.hist(goals[goals[\"bodypart\"]==3][\"time\"],width=1,bins=100,color=\"#3399ff\",label=\"Headers\") \n",
    "plt.xlabel(\"Minutes\")\n",
    "plt.ylabel(\"Number of goals\")\n",
    "plt.legend()\n",
    "plt.title(\"Number of goals (by body parts) against Time during match\",fontname=\"Times New Roman Bold\",fontsize=14,fontweight=\"bold\")\n",
    "plt.tight_layout()"
   ]
  },
  {
   "cell_type": "code",
   "execution_count": 21,
   "id": "41908e3d",
   "metadata": {},
   "outputs": [
    {
     "data": {
      "image/png": "[encoded data removed]",
      "text/plain": [
       "<Figure size 720x720 with 2 Axes>"
      ]
     },
     "metadata": {},
     "output_type": "display_data"
    }
   ],
   "source": [
    "plt.subplot(2,1,1)\n",
    "labels=[\"Open Play\", \"Set Piece(Excluding direct Free kick)\",\"Corners\",\"Direct Free Kick\"]\n",
    "sizes=[goals[goals[\"situation\"]==1].shape[0],goals[goals[\"situation\"]==2].shape[0],goals[goals[\"situation\"]==3].shape[0],goals[goals[\"situation\"]==4].shape[0]]\n",
    "colors=[\"#3399ff\",\"#ffbf00\",\"#e64d00\",\"#cc0000\"]\n",
    "plt.pie(sizes,labels=labels,colors=colors,autopct='%1.1f%%',startangle=60)\n",
    "plt.axis('equal')\n",
    "plt.title(\"Percentage of each situation for goals\",fontname=\"Times New Roman Bold\",fontsize=14,fontweight=\"bold\")\n",
    "fig=plt.gcf() \n",
    "fig.set_size_inches(10,10)\n",
    "\n",
    "plt.subplot(2,1,2)\n",
    "plt.hist(goals[goals[\"situation\"]==1][\"time\"],width=1,bins=100,color=\"#3399ff\",label=\"Open play\")   \n",
    "plt.hist(goals[goals[\"situation\"]==2][\"time\"],width=1,bins=100,color=\"#ffbf00\",label=\"Set Piece (excluding direct FreeKick)\") \n",
    "plt.hist(goals[goals[\"situation\"]==3][\"time\"],width=1,bins=100,color=\"#e64d00\",label=\"Corners\") \n",
    "plt.hist(goals[goals[\"situation\"]==4][\"time\"],width=1,bins=100,color=\"#cc0000\",label=\"Direct Free Kick\") \n",
    "plt.xlabel(\"Minutes\")\n",
    "plt.ylabel(\"Number of goals\")\n",
    "plt.legend()\n",
    "plt.title(\"Number of goals (by situations) against Time during match\",fontname=\"Times New Roman Bold\",fontsize=14,fontweight=\"bold\")\n",
    "plt.tight_layout()"
   ]
  },
  {
   "cell_type": "code",
   "execution_count": 22,
   "id": "48930fc2",
   "metadata": {},
   "outputs": [
    {
     "name": "stdout",
     "output_type": "stream",
     "text": [
      "0\n",
      "1\n",
      "2\n",
      "4\n",
      "5\n"
     ]
    }
   ],
   "source": [
    "for i in range(20):\n",
    "    if sum(goals[\"location\"]==i)==0:\n",
    "        print(i)"
   ]
  },
  {
   "cell_type": "code",
   "execution_count": 23,
   "id": "07d2d220",
   "metadata": {},
   "outputs": [
    {
     "name": "stderr",
     "output_type": "stream",
     "text": [
      "findfont: Font family ['Times New Roman Bold'] not found. Falling back to DejaVu Sans.\n"
     ]
    },
    {
     "data": {
      "image/png": "[encoded data removed]",
      "text/plain": [
       "<Figure size 864x576 with 1 Axes>"
      ]
     },
     "metadata": {},
     "output_type": "display_data"
    }
   ],
   "source": [
    "diff_angle_goals=sum(goals[\"location\"]==6)+sum(goals[\"location\"]==7)+sum(goals[\"location\"]==8)\n",
    "long_range_goals=sum(goals[\"location\"]==16)+sum(goals[\"location\"]==17)+sum(goals[\"location\"]==18)\n",
    "box_goals=sum(goals[\"location\"]==3)+sum(goals[\"location\"]==9)+sum(goals[\"location\"]==11)+sum(goals[\"location\"]==15)\n",
    "close_range_goals=sum(goals[\"location\"]==10)+sum(goals[\"location\"]==12)+sum(goals[\"location\"]==13)\n",
    "penalties=sum(goals[\"location\"]==14)\n",
    "not_recorded=sum(goals[\"location\"]==19)\n",
    "\n",
    "labels=[\"Long Range goals\",\"Difficult angle goals\",\"Goals from around the box\",\"Close range goals\",\"Penalties\",\"Not recorded\"]\n",
    "sizes=[long_range_goals,diff_angle_goals,box_goals,close_range_goals,penalties,not_recorded]\n",
    "colors=[\"#ff00bf\",\"#e6e600\",\"#009999\",\"#33cc33\",\"red\",\"grey\"]\n",
    "plt.pie(sizes,colors=colors,autopct='%1.1f%%',startangle=60,pctdistance=0.8,radius=3)\n",
    "plt.axis('equal')\n",
    "plt.title(\"Percentage of each location for goals\",fontname=\"Times New Roman Bold\",fontsize=18,fontweight=\"bold\")\n",
    "plt.legend(labels)\n",
    "fig=plt.gcf() \n",
    "fig.set_size_inches(12,8)\n",
    "plt.show()"
   ]
  },
  {
   "cell_type": "code",
   "execution_count": 24,
   "id": "733df7bd",
   "metadata": {},
   "outputs": [
    {
     "data": {
      "image/png": "[encoded data removed]",
      "text/plain": [
       "<Figure size 576x432 with 1 Axes>"
      ]
     },
     "metadata": {},
     "output_type": "display_data"
    }
   ],
   "source": [
    "labels=[\"None\",\"Pass\",\"Cross\",\"Headed Pass\",\"Through Ball\"]\n",
    "sizes=[sum(goals[\"assist_method\"]==0),sum(goals[\"assist_method\"]==1),sum(goals[\"assist_method\"]==2),sum(goals[\"assist_method\"]==3),sum(goals[\"assist_method\"]==4)]\n",
    "colors=[\"#33cc00\",\"yellow\",\"#1a8cff\",\"#ff8000\",\"#ff33cc\"]\n",
    "plt.pie(sizes,labels=labels,colors=colors,autopct='%1.1f%%',startangle=60)\n",
    "plt.axis('equal')\n",
    "plt.title(\"Percentage of each assist type for goals\",fontname=\"Times New Roman Bold\",fontsize=18,fontweight=\"bold\")\n",
    "fig=plt.gcf()  #gcf --> current figure\n",
    "fig.set_size_inches(8,6)\n",
    "plt.show()\n"
   ]
  },
  {
   "cell_type": "code",
   "execution_count": 25,
   "id": "08338ecc",
   "metadata": {},
   "outputs": [],
   "source": [
    "substitution=events[events[\"event_type\"]==7]\n"
   ]
  },
  {
   "cell_type": "code",
   "execution_count": 26,
   "id": "a271a388",
   "metadata": {},
   "outputs": [
    {
     "data": {
      "text/plain": [
       "Text(0.5, 1.0, 'Number of substitutions against Time during match')"
      ]
     },
     "execution_count": 26,
     "metadata": {},
     "output_type": "execute_result"
    },
    {
     "data": {
      "image/png": "[encoded data removed]",
      "text/plain": [
       "<Figure size 576x432 with 1 Axes>"
      ]
     },
     "metadata": {},
     "output_type": "display_data"
    }
   ],
   "source": [
    "fig=plt.figure(figsize=(8,6))\n",
    "plt.hist(substitution.time,width=1,bins=100,color=\"#33cccc\")   \n",
    "plt.xlabel(\"Minutes\")\n",
    "plt.ylabel(\"Number of substitutions\")\n",
    "plt.title(\"Number of substitutions against Time during match\")"
   ]
  },
  {
   "cell_type": "code",
   "execution_count": 27,
   "id": "679e6271",
   "metadata": {},
   "outputs": [
    {
     "data": {
      "text/plain": [
       "Text(0.5, 1.0, 'Number of substitutions (home/away) against Time during match')"
      ]
     },
     "execution_count": 27,
     "metadata": {},
     "output_type": "execute_result"
    },
    {
     "data": {
      "image/png": "[encoded data removed]",
      "text/plain": [
       "<Figure size 720x720 with 2 Axes>"
      ]
     },
     "metadata": {},
     "output_type": "display_data"
    }
   ],
   "source": [
    "plt.subplot(2,1,1)\n",
    "labels=[\"Home\",\"Away\"]\n",
    "sizes=[substitution[substitution[\"side\"]==1].shape[0],substitution[substitution[\"side\"]==2].shape[0]]\n",
    "colors=[\"#ffbf00\",\"#3399ff\"]\n",
    "plt.pie(sizes,labels=labels,colors=colors,autopct='%1.1f%%',startangle=90)\n",
    "plt.axis('equal')\n",
    "plt.title(\"Percentage of substitutions by Home/Away\",fontname=\"Times New Roman Bold\",fontsize=14,fontweight=\"bold\")\n",
    "fig=plt.gcf() \n",
    "fig.set_size_inches(10,10)\n",
    "\n",
    "plt.subplot(2,1,2)\n",
    "plt.hist(substitution[substitution[\"side\"]==1].time,width=1,bins=100,color=\"#ffbf00\",label=\"home\")\n",
    "plt.hist(substitution[substitution[\"side\"]==2].time,width=1,bins=100,color=\"#3399ff\",label=\"away\")\n",
    "plt.xlabel(\"Minutes\")\n",
    "plt.ylabel(\"Number of substitutions\")\n",
    "plt.legend()\n",
    "plt.title(\"Number of substitutions (home/away) against Time during match\",fontname=\"Times New Roman Bold\",fontsize=18,fontweight=\"bold\")"
   ]
  },
  {
   "cell_type": "code",
   "execution_count": 28,
   "id": "ccf11227",
   "metadata": {},
   "outputs": [
    {
     "data": {
      "text/plain": [
       "(39911, 22)"
      ]
     },
     "execution_count": 28,
     "metadata": {},
     "output_type": "execute_result"
    }
   ],
   "source": [
    "yel_card=events[events[\"event_type\"]==4]\n",
    "yel_card.shape"
   ]
  },
  {
   "cell_type": "code",
   "execution_count": 29,
   "id": "d180f924",
   "metadata": {},
   "outputs": [
    {
     "data": {
      "text/plain": [
       "Text(0.5, 1.0, 'Number of yellow cards against Time during match')"
      ]
     },
     "execution_count": 29,
     "metadata": {},
     "output_type": "execute_result"
    },
    {
     "data": {
      "image/png": "[encoded data removed]",
      "text/plain": [
       "<Figure size 576x432 with 1 Axes>"
      ]
     },
     "metadata": {},
     "output_type": "display_data"
    }
   ],
   "source": [
    "plt.figure(figsize=(8,6))\n",
    "plt.hist(yel_card.time,width=8,bins=9,color=\"#ffd11a\")   \n",
    "plt.xlabel(\"Minutes\")\n",
    "plt.ylabel(\"Number of yellow cards\")\n",
    "plt.title(\"Number of yellow cards against Time during match\",fontname=\"Times New Roman Bold\",fontsize=14,fontweight=\"bold\")"
   ]
  },
  {
   "cell_type": "code",
   "execution_count": 30,
   "id": "37866fb4",
   "metadata": {},
   "outputs": [
    {
     "data": {
      "text/html": [
       "<div>\n",
       "<style scoped>\n",
       "    .dataframe tbody tr th:only-of-type {\n",
       "        vertical-align: middle;\n",
       "    }\n",
       "\n",
       "    .dataframe tbody tr th {\n",
       "        vertical-align: top;\n",
       "    }\n",
       "\n",
       "    .dataframe thead th {\n",
       "        text-align: right;\n",
       "    }\n",
       "</style>\n",
       "<table border=\"1\" class=\"dataframe\">\n",
       "  <thead>\n",
       "    <tr style=\"text-align: right;\">\n",
       "      <th></th>\n",
       "      <th>home</th>\n",
       "      <th>away</th>\n",
       "    </tr>\n",
       "  </thead>\n",
       "  <tbody>\n",
       "    <tr>\n",
       "      <th>Yellow cards</th>\n",
       "      <td>18430</td>\n",
       "      <td>21481</td>\n",
       "    </tr>\n",
       "  </tbody>\n",
       "</table>\n",
       "</div>"
      ],
      "text/plain": [
       "               home   away\n",
       "Yellow cards  18430  21481"
      ]
     },
     "execution_count": 30,
     "metadata": {},
     "output_type": "execute_result"
    },
    {
     "data": {
      "image/png": "[encoded data removed]",
      "text/plain": [
       "<Figure size 432x288 with 1 Axes>"
      ]
     },
     "metadata": {},
     "output_type": "display_data"
    }
   ],
   "source": [
    "yel_home=yel_card[yel_card[\"side\"]==1].shape[0]\n",
    "yel_away=yel_card[yel_card[\"side\"]==2].shape[0]\n",
    "\n",
    "yel_combi=pd.DataFrame({\"home\":yel_home,\"away\":yel_away},index=[\"Yellow cards\"])\n",
    "yel_combi.plot(kind=\"bar\")\n",
    "plt.title(\"Number of yellow cards (Home/Away)\",fontname=\"Times New Roman Bold\",fontsize=14,fontweight=\"bold\")\n",
    "yel_combi"
   ]
  },
  {
   "cell_type": "code",
   "execution_count": 31,
   "id": "225f5e7b",
   "metadata": {},
   "outputs": [
    {
     "data": {
      "text/plain": [
       "array([5, 6], dtype=int64)"
      ]
     },
     "execution_count": 31,
     "metadata": {},
     "output_type": "execute_result"
    }
   ],
   "source": [
    "sec_yellow=events[events[\"event_type\"]==5]\n",
    "red=events[events[\"event_type\"]==6]\n",
    "reds=[sec_yellow,red]\n",
    "red_cards=pd.concat(reds)\n",
    "red_cards.event_type.unique()"
   ]
  },
  {
   "cell_type": "code",
   "execution_count": 32,
   "id": "a3f76624",
   "metadata": {},
   "outputs": [
    {
     "data": {
      "text/plain": [
       "Text(0.5, 1.0, 'Number of red cards against Time during match')"
      ]
     },
     "execution_count": 32,
     "metadata": {},
     "output_type": "execute_result"
    },
    {
     "data": {
      "image/png": "[encoded data removed]",
      "text/plain": [
       "<Figure size 576x432 with 1 Axes>"
      ]
     },
     "metadata": {},
     "output_type": "display_data"
    }
   ],
   "source": [
    "fig=plt.figure(figsize=(8,6))\n",
    "plt.hist(red_cards.time,width=8,bins=9,color=\"#cc3300\")   \n",
    "plt.xlabel(\"Minutes\")\n",
    "plt.ylabel(\"Number of red cards\")\n",
    "plt.title(\"Number of red cards against Time during match\",fontname=\"Times New Roman Bold\",fontsize=14,fontweight=\"bold\")"
   ]
  },
  {
   "cell_type": "code",
   "execution_count": 33,
   "id": "f9c8fcb3",
   "metadata": {},
   "outputs": [
    {
     "data": {
      "text/html": [
       "<div>\n",
       "<style scoped>\n",
       "    .dataframe tbody tr th:only-of-type {\n",
       "        vertical-align: middle;\n",
       "    }\n",
       "\n",
       "    .dataframe tbody tr th {\n",
       "        vertical-align: top;\n",
       "    }\n",
       "\n",
       "    .dataframe thead th {\n",
       "        text-align: right;\n",
       "    }\n",
       "</style>\n",
       "<table border=\"1\" class=\"dataframe\">\n",
       "  <thead>\n",
       "    <tr style=\"text-align: right;\">\n",
       "      <th></th>\n",
       "      <th>home</th>\n",
       "      <th>away</th>\n",
       "    </tr>\n",
       "  </thead>\n",
       "  <tbody>\n",
       "    <tr>\n",
       "      <th>Red cards</th>\n",
       "      <td>548</td>\n",
       "      <td>704</td>\n",
       "    </tr>\n",
       "  </tbody>\n",
       "</table>\n",
       "</div>"
      ],
      "text/plain": [
       "           home  away\n",
       "Red cards   548   704"
      ]
     },
     "execution_count": 33,
     "metadata": {},
     "output_type": "execute_result"
    },
    {
     "data": {
      "image/png": "[encoded data removed]",
      "text/plain": [
       "<Figure size 432x288 with 1 Axes>"
      ]
     },
     "metadata": {},
     "output_type": "display_data"
    }
   ],
   "source": [
    "red_home=red_cards[red_cards[\"side\"]==1].shape[0]\n",
    "red_away=red_cards[red_cards[\"side\"]==2].shape[0]\n",
    "\n",
    "red_combi=pd.DataFrame({\"home\":red_home,\"away\":red_away},index=[\"Red cards\"])\n",
    "red_combi.plot(kind=\"bar\")\n",
    "plt.title(\"Number of Red cards (Home/Away)\",fontname=\"Times New Roman Bold\",fontsize=14,fontweight=\"bold\")\n",
    "red_combi"
   ]
  },
  {
   "cell_type": "code",
   "execution_count": 34,
   "id": "ce357735",
   "metadata": {},
   "outputs": [
    {
     "data": {
      "text/html": [
       "<div>\n",
       "<style scoped>\n",
       "    .dataframe tbody tr th:only-of-type {\n",
       "        vertical-align: middle;\n",
       "    }\n",
       "\n",
       "    .dataframe tbody tr th {\n",
       "        vertical-align: top;\n",
       "    }\n",
       "\n",
       "    .dataframe thead th {\n",
       "        text-align: right;\n",
       "    }\n",
       "</style>\n",
       "<table border=\"1\" class=\"dataframe\">\n",
       "  <thead>\n",
       "    <tr style=\"text-align: right;\">\n",
       "      <th></th>\n",
       "      <th>id_odsp</th>\n",
       "      <th>id_event</th>\n",
       "      <th>sort_order</th>\n",
       "      <th>time</th>\n",
       "      <th>text</th>\n",
       "      <th>event_type</th>\n",
       "      <th>event_type2</th>\n",
       "      <th>side</th>\n",
       "      <th>event_team</th>\n",
       "      <th>opponent</th>\n",
       "      <th>player</th>\n",
       "      <th>player2</th>\n",
       "      <th>player_in</th>\n",
       "      <th>player_out</th>\n",
       "      <th>shot_place</th>\n",
       "      <th>shot_outcome</th>\n",
       "      <th>is_goal</th>\n",
       "      <th>location</th>\n",
       "      <th>bodypart</th>\n",
       "      <th>assist_method</th>\n",
       "      <th>situation</th>\n",
       "      <th>fast_break</th>\n",
       "    </tr>\n",
       "  </thead>\n",
       "  <tbody>\n",
       "    <tr>\n",
       "      <th>1568</th>\n",
       "      <td>xtklbWLh/</td>\n",
       "      <td>xtklbWLh22</td>\n",
       "      <td>22</td>\n",
       "      <td>18</td>\n",
       "      <td>Goal!  Hannover 1, 1899 Hoffenheim 1. Sejad Sa...</td>\n",
       "      <td>1</td>\n",
       "      <td>NaN</td>\n",
       "      <td>2</td>\n",
       "      <td>TSG Hoffenheim</td>\n",
       "      <td>Hannover 96</td>\n",
       "      <td>sejad salihovic</td>\n",
       "      <td>NaN</td>\n",
       "      <td>NaN</td>\n",
       "      <td>NaN</td>\n",
       "      <td>12.0</td>\n",
       "      <td>1.0</td>\n",
       "      <td>1</td>\n",
       "      <td>14.0</td>\n",
       "      <td>2.0</td>\n",
       "      <td>0</td>\n",
       "      <td>2.0</td>\n",
       "      <td>0</td>\n",
       "    </tr>\n",
       "    <tr>\n",
       "      <th>1579</th>\n",
       "      <td>xtklbWLh/</td>\n",
       "      <td>xtklbWLh33</td>\n",
       "      <td>33</td>\n",
       "      <td>30</td>\n",
       "      <td>Goal!  Hannover 2, 1899 Hoffenheim 1. Mohammed...</td>\n",
       "      <td>1</td>\n",
       "      <td>NaN</td>\n",
       "      <td>1</td>\n",
       "      <td>Hannover 96</td>\n",
       "      <td>TSG Hoffenheim</td>\n",
       "      <td>mohammed abdellaoue</td>\n",
       "      <td>NaN</td>\n",
       "      <td>NaN</td>\n",
       "      <td>NaN</td>\n",
       "      <td>3.0</td>\n",
       "      <td>1.0</td>\n",
       "      <td>1</td>\n",
       "      <td>14.0</td>\n",
       "      <td>2.0</td>\n",
       "      <td>0</td>\n",
       "      <td>2.0</td>\n",
       "      <td>0</td>\n",
       "    </tr>\n",
       "    <tr>\n",
       "      <th>1821</th>\n",
       "      <td>84Llk2m6/</td>\n",
       "      <td>84Llk2m662</td>\n",
       "      <td>62</td>\n",
       "      <td>56</td>\n",
       "      <td>Goal!  Bordeaux 1, St Etienne 2. Jussie (Borde...</td>\n",
       "      <td>1</td>\n",
       "      <td>NaN</td>\n",
       "      <td>1</td>\n",
       "      <td>Bordeaux</td>\n",
       "      <td>St Etienne</td>\n",
       "      <td>jussie</td>\n",
       "      <td>NaN</td>\n",
       "      <td>NaN</td>\n",
       "      <td>NaN</td>\n",
       "      <td>3.0</td>\n",
       "      <td>1.0</td>\n",
       "      <td>1</td>\n",
       "      <td>14.0</td>\n",
       "      <td>1.0</td>\n",
       "      <td>0</td>\n",
       "      <td>2.0</td>\n",
       "      <td>0</td>\n",
       "    </tr>\n",
       "    <tr>\n",
       "      <th>1908</th>\n",
       "      <td>fLN0n0XO/</td>\n",
       "      <td>fLN0n0XO38</td>\n",
       "      <td>38</td>\n",
       "      <td>32</td>\n",
       "      <td>Penalty missed! Bad penalty by Julien FA©ret (...</td>\n",
       "      <td>1</td>\n",
       "      <td>NaN</td>\n",
       "      <td>2</td>\n",
       "      <td>Stade Rennes</td>\n",
       "      <td>Dijon FCO</td>\n",
       "      <td>julien feret</td>\n",
       "      <td>NaN</td>\n",
       "      <td>NaN</td>\n",
       "      <td>NaN</td>\n",
       "      <td>1.0</td>\n",
       "      <td>2.0</td>\n",
       "      <td>0</td>\n",
       "      <td>14.0</td>\n",
       "      <td>1.0</td>\n",
       "      <td>0</td>\n",
       "      <td>2.0</td>\n",
       "      <td>0</td>\n",
       "    </tr>\n",
       "    <tr>\n",
       "      <th>1946</th>\n",
       "      <td>fLN0n0XO/</td>\n",
       "      <td>fLN0n0XO76</td>\n",
       "      <td>76</td>\n",
       "      <td>57</td>\n",
       "      <td>Penalty missed! Still  Dijon 1, Rennes 3. Greg...</td>\n",
       "      <td>1</td>\n",
       "      <td>NaN</td>\n",
       "      <td>2</td>\n",
       "      <td>Stade Rennes</td>\n",
       "      <td>Dijon FCO</td>\n",
       "      <td>gregory thil</td>\n",
       "      <td>NaN</td>\n",
       "      <td>NaN</td>\n",
       "      <td>NaN</td>\n",
       "      <td>7.0</td>\n",
       "      <td>4.0</td>\n",
       "      <td>0</td>\n",
       "      <td>14.0</td>\n",
       "      <td>1.0</td>\n",
       "      <td>0</td>\n",
       "      <td>2.0</td>\n",
       "      <td>0</td>\n",
       "    </tr>\n",
       "  </tbody>\n",
       "</table>\n",
       "</div>"
      ],
      "text/plain": [
       "        id_odsp    id_event  sort_order  time                                               text  event_type  event_type2  side      event_team        opponent               player player2 player_in player_out  shot_place  shot_outcome  is_goal  location  bodypart  assist_method  situation  fast_break\n",
       "1568  xtklbWLh/  xtklbWLh22          22    18  Goal!  Hannover 1, 1899 Hoffenheim 1. Sejad Sa...           1          NaN     2  TSG Hoffenheim     Hannover 96      sejad salihovic     NaN       NaN        NaN        12.0           1.0        1      14.0       2.0              0        2.0           0\n",
       "1579  xtklbWLh/  xtklbWLh33          33    30  Goal!  Hannover 2, 1899 Hoffenheim 1. Mohammed...           1          NaN     1     Hannover 96  TSG Hoffenheim  mohammed abdellaoue     NaN       NaN        NaN         3.0           1.0        1      14.0       2.0              0        2.0           0\n",
       "1821  84Llk2m6/  84Llk2m662          62    56  Goal!  Bordeaux 1, St Etienne 2. Jussie (Borde...           1          NaN     1        Bordeaux      St Etienne               jussie     NaN       NaN        NaN         3.0           1.0        1      14.0       1.0              0        2.0           0\n",
       "1908  fLN0n0XO/  fLN0n0XO38          38    32  Penalty missed! Bad penalty by Julien FA©ret (...           1          NaN     2    Stade Rennes       Dijon FCO         julien feret     NaN       NaN        NaN         1.0           2.0        0      14.0       1.0              0        2.0           0\n",
       "1946  fLN0n0XO/  fLN0n0XO76          76    57  Penalty missed! Still  Dijon 1, Rennes 3. Greg...           1          NaN     2    Stade Rennes       Dijon FCO         gregory thil     NaN       NaN        NaN         7.0           4.0        0      14.0       1.0              0        2.0           0"
      ]
     },
     "execution_count": 34,
     "metadata": {},
     "output_type": "execute_result"
    }
   ],
   "source": [
    "penalties=events[events[\"location\"]==14]\n",
    "penalties.head()"
   ]
  },
  {
   "cell_type": "code",
   "execution_count": 35,
   "id": "3f9f3c2a",
   "metadata": {},
   "outputs": [
    {
     "name": "stdout",
     "output_type": "stream",
     "text": [
      "0\n",
      "2\n"
     ]
    }
   ],
   "source": [
    "for i in range(14):\n",
    "    if sum(penalties[\"shot_place\"]==i)==0:\n",
    "        print(i)"
   ]
  },
  {
   "cell_type": "code",
   "execution_count": 36,
   "id": "3f64ba0a",
   "metadata": {},
   "outputs": [
    {
     "data": {
      "image/png": "[encoded data removed]",
      "text/plain": [
       "<Figure size 576x432 with 1 Axes>"
      ]
     },
     "metadata": {},
     "output_type": "display_data"
    }
   ],
   "source": [
    "top_left=sum(penalties[\"shot_place\"]==12)\n",
    "bot_left=sum(penalties[\"shot_place\"]==3)\n",
    "top_right=sum(penalties[\"shot_place\"]==13)\n",
    "bot_right=sum(penalties[\"shot_place\"]==4)\n",
    "centre=sum(penalties[\"shot_place\"]==5)+sum(penalties[\"shot_place\"]==11)\n",
    "missed=sum(penalties[\"shot_place\"]==1)+sum(penalties[\"shot_place\"]==6)+sum(penalties[\"shot_place\"]==7)+sum(penalties[\"shot_place\"]==8)+sum(penalties[\"shot_place\"]==9)+sum(penalties[\"shot_place\"]==10)\n",
    "\n",
    "labels_pen=[\"top left\",\"bottom left\",\"centre\",\"top right\",\"bottom right\",\"missed\"]\n",
    "num_pen=[top_left,bot_left,centre,top_right,bot_right,missed]\n",
    "colors_pen=[\"#00cc00\",\"#3399ff\",\"#ffbf00\",\"#ff33cc\",\"#cc0066\",\"red\"]\n",
    "plt.pie(num_pen,labels=labels_pen,colors=colors_pen,autopct='%1.1f%%',startangle=60,explode=(0,0,0,0,0,0.2))\n",
    "plt.axis('equal')\n",
    "plt.title(\"Percentage of each placement of penalties\",fontname=\"Times New Roman Bold\",fontsize=18,fontweight=\"bold\")\n",
    "fig=plt.gcf()  \n",
    "fig.set_size_inches(8,6)\n",
    "plt.show()"
   ]
  },
  {
   "cell_type": "code",
   "execution_count": 37,
   "id": "1f4f37b0",
   "metadata": {},
   "outputs": [
    {
     "data": {
      "text/html": [
       "<div>\n",
       "<style scoped>\n",
       "    .dataframe tbody tr th:only-of-type {\n",
       "        vertical-align: middle;\n",
       "    }\n",
       "\n",
       "    .dataframe tbody tr th {\n",
       "        vertical-align: top;\n",
       "    }\n",
       "\n",
       "    .dataframe thead th {\n",
       "        text-align: right;\n",
       "    }\n",
       "</style>\n",
       "<table border=\"1\" class=\"dataframe\">\n",
       "  <thead>\n",
       "    <tr style=\"text-align: right;\">\n",
       "      <th></th>\n",
       "      <th>right foot</th>\n",
       "      <th>left foot</th>\n",
       "    </tr>\n",
       "  </thead>\n",
       "  <tbody>\n",
       "    <tr>\n",
       "      <th>Scored</th>\n",
       "      <td>1535</td>\n",
       "      <td>454</td>\n",
       "    </tr>\n",
       "  </tbody>\n",
       "</table>\n",
       "</div>"
      ],
      "text/plain": [
       "        right foot  left foot\n",
       "Scored        1535        454"
      ]
     },
     "execution_count": 37,
     "metadata": {},
     "output_type": "execute_result"
    },
    {
     "data": {
      "image/png": "[encoded data removed]",
      "text/plain": [
       "<Figure size 432x288 with 1 Axes>"
      ]
     },
     "metadata": {},
     "output_type": "display_data"
    }
   ],
   "source": [
    "scored_pen=penalties[penalties[\"is_goal\"]==1]\n",
    "pen_rightfoot=scored_pen[scored_pen[\"bodypart\"]==1].shape[0]\n",
    "pen_leftfoot=scored_pen[scored_pen[\"bodypart\"]==2].shape[0]\n",
    "penalty_combi=pd.DataFrame({\"right foot\":pen_rightfoot,\"left foot\":pen_leftfoot},index=[\"Scored\"])\n",
    "penalty_combi.plot(kind=\"bar\")\n",
    "plt.title(\"Penalties scored (Right/Left foot)\",fontname=\"Times New Roman Bold\",fontsize=14,fontweight=\"bold\")\n",
    "penalty_combi"
   ]
  },
  {
   "cell_type": "code",
   "execution_count": 38,
   "id": "4b4f2711",
   "metadata": {},
   "outputs": [
    {
     "data": {
      "text/html": [
       "<div>\n",
       "<style scoped>\n",
       "    .dataframe tbody tr th:only-of-type {\n",
       "        vertical-align: middle;\n",
       "    }\n",
       "\n",
       "    .dataframe tbody tr th {\n",
       "        vertical-align: top;\n",
       "    }\n",
       "\n",
       "    .dataframe thead th {\n",
       "        text-align: right;\n",
       "    }\n",
       "</style>\n",
       "<table border=\"1\" class=\"dataframe\">\n",
       "  <thead>\n",
       "    <tr style=\"text-align: right;\">\n",
       "      <th></th>\n",
       "      <th>right foot</th>\n",
       "      <th>left foot</th>\n",
       "    </tr>\n",
       "  </thead>\n",
       "  <tbody>\n",
       "    <tr>\n",
       "      <th>Missed</th>\n",
       "      <td>485</td>\n",
       "      <td>122</td>\n",
       "    </tr>\n",
       "  </tbody>\n",
       "</table>\n",
       "</div>"
      ],
      "text/plain": [
       "        right foot  left foot\n",
       "Missed         485        122"
      ]
     },
     "execution_count": 38,
     "metadata": {},
     "output_type": "execute_result"
    },
    {
     "data": {
      "image/png": "[encoded data removed]",
      "text/plain": [
       "<Figure size 432x288 with 1 Axes>"
      ]
     },
     "metadata": {},
     "output_type": "display_data"
    }
   ],
   "source": [
    "missed_pen=penalties[penalties[\"is_goal\"]==0]\n",
    "missed_right=missed_pen[missed_pen[\"bodypart\"]==1].shape[0]\n",
    "missed_left=missed_pen[missed_pen[\"bodypart\"]==2].shape[0]\n",
    "missed_combi=pd.DataFrame({\"right foot\":missed_right,\"left foot\":missed_left},index=[\"Missed\"])\n",
    "missed_combi.plot(kind=\"bar\")\n",
    "plt.title(\"Penalties Missed (Right/Left foot)\",fontname=\"Times New Roman Bold\",fontsize=14,fontweight=\"bold\")\n",
    "missed_combi"
   ]
  },
  {
   "cell_type": "code",
   "execution_count": 39,
   "id": "266446dc",
   "metadata": {},
   "outputs": [
    {
     "data": {
      "image/png": "[encoded data removed]",
      "text/plain": [
       "<Figure size 432x288 with 1 Axes>"
      ]
     },
     "metadata": {},
     "output_type": "display_data"
    },
    {
     "data": {
      "text/html": [
       "<div>\n",
       "<style scoped>\n",
       "    .dataframe tbody tr th:only-of-type {\n",
       "        vertical-align: middle;\n",
       "    }\n",
       "\n",
       "    .dataframe tbody tr th {\n",
       "        vertical-align: top;\n",
       "    }\n",
       "\n",
       "    .dataframe thead th {\n",
       "        text-align: right;\n",
       "    }\n",
       "</style>\n",
       "<table border=\"1\" class=\"dataframe\">\n",
       "  <thead>\n",
       "    <tr style=\"text-align: right;\">\n",
       "      <th></th>\n",
       "      <th>right foot</th>\n",
       "      <th>left foot</th>\n",
       "    </tr>\n",
       "  </thead>\n",
       "  <tbody>\n",
       "    <tr>\n",
       "      <th>Scored</th>\n",
       "      <td>1535</td>\n",
       "      <td>454</td>\n",
       "    </tr>\n",
       "    <tr>\n",
       "      <th>Missed</th>\n",
       "      <td>485</td>\n",
       "      <td>122</td>\n",
       "    </tr>\n",
       "  </tbody>\n",
       "</table>\n",
       "</div>"
      ],
      "text/plain": [
       "        right foot  left foot\n",
       "Scored        1535        454\n",
       "Missed         485        122"
      ]
     },
     "execution_count": 39,
     "metadata": {},
     "output_type": "execute_result"
    }
   ],
   "source": [
    "total_missed=[missed_right, missed_left]\n",
    "total_scored=[pen_rightfoot, pen_leftfoot]\n",
    "plt.bar(penalties[\"bodypart\"].unique(),total_missed,color=\"#ff99ff\",label=\"Missed\")\n",
    "plt.bar(penalties[\"bodypart\"].unique(),total_scored,color=\"#9999ff\",bottom=total_missed,label=\"Scored\")\n",
    "plt.xticks(penalties[\"bodypart\"].unique(),[\"Right foot\",\"Left foot\"])\n",
    "plt.ylabel(\"Frequency\")\n",
    "plt.legend()\n",
    "plt.title(\"Penalties scored/missed among right/left foot\",fontname=\"Times New Roman Bold\",fontsize=14,fontweight=\"bold\")\n",
    "plt.show()\n",
    "total_pen=penalty_combi.append(missed_combi)\n",
    "total_pen"
   ]
  },
  {
   "cell_type": "code",
   "execution_count": 40,
   "id": "878b0f52",
   "metadata": {},
   "outputs": [
    {
     "name": "stdout",
     "output_type": "stream",
     "text": [
      "Left foot conversion rate is: 0.79\n",
      "Right foot conversion rate is: 0.76\n"
     ]
    }
   ],
   "source": [
    "conversion_left_foot=total_pen[\"left foot\"][\"Scored\"]/(total_pen[\"left foot\"][\"Scored\"]+total_pen[\"left foot\"][\"Missed\"])\n",
    "conversion_right_foot=total_pen[\"right foot\"][\"Scored\"]/(total_pen[\"right foot\"][\"Scored\"]+total_pen[\"right foot\"][\"Missed\"])\n",
    "print(\"Left foot conversion rate is: \" + str(\"%.2f\" % conversion_left_foot))\n",
    "print(\"Right foot conversion rate is: \" + str(\"%.2f\" % conversion_right_foot))"
   ]
  },
  {
   "cell_type": "code",
   "execution_count": 41,
   "id": "9f266350",
   "metadata": {},
   "outputs": [],
   "source": [
    "def pen_stats(player):\n",
    "    player_pen=penalties[penalties[\"player\"]==player]\n",
    "    right_attempt=player_pen[player_pen[\"bodypart\"]==1]\n",
    "    right_attempt_scored=right_attempt[right_attempt[\"is_goal\"]==1].shape[0]\n",
    "    right_attempt_missed=right_attempt[right_attempt[\"is_goal\"]==0].shape[0]\n",
    "    left_attempt=player_pen[player_pen[\"bodypart\"]==2]\n",
    "    left_attempt_scored=left_attempt[left_attempt[\"is_goal\"]==1].shape[0]\n",
    "    left_attempt_missed=left_attempt[left_attempt[\"is_goal\"]==0].shape[0]\n",
    "    scored=pd.DataFrame({\"right foot\":right_attempt_scored,\"left foot\":left_attempt_scored},index=[\"Scored\"])\n",
    "    missed=pd.DataFrame({\"right foot\":right_attempt_missed,\"left foot\":left_attempt_missed},index=[\"Missed\"])\n",
    "    combi=scored.append(missed)\n",
    "    return combi"
   ]
  },
  {
   "cell_type": "code",
   "execution_count": 42,
   "id": "fd16d242",
   "metadata": {},
   "outputs": [
    {
     "data": {
      "text/plain": [
       "array([1], dtype=int64)"
      ]
     },
     "execution_count": 42,
     "metadata": {},
     "output_type": "execute_result"
    }
   ],
   "source": [
    "penalties[penalties[\"shot_place\"].isnull()].is_goal.unique()"
   ]
  },
  {
   "cell_type": "code",
   "execution_count": 43,
   "id": "b76f5eef",
   "metadata": {},
   "outputs": [
    {
     "data": {
      "text/html": [
       "<div>\n",
       "<style scoped>\n",
       "    .dataframe tbody tr th:only-of-type {\n",
       "        vertical-align: middle;\n",
       "    }\n",
       "\n",
       "    .dataframe tbody tr th {\n",
       "        vertical-align: top;\n",
       "    }\n",
       "\n",
       "    .dataframe thead th {\n",
       "        text-align: right;\n",
       "    }\n",
       "</style>\n",
       "<table border=\"1\" class=\"dataframe\">\n",
       "  <thead>\n",
       "    <tr style=\"text-align: right;\">\n",
       "      <th></th>\n",
       "      <th>right foot</th>\n",
       "      <th>left foot</th>\n",
       "    </tr>\n",
       "  </thead>\n",
       "  <tbody>\n",
       "    <tr>\n",
       "      <th>Scored</th>\n",
       "      <td>18</td>\n",
       "      <td>0</td>\n",
       "    </tr>\n",
       "    <tr>\n",
       "      <th>Missed</th>\n",
       "      <td>1</td>\n",
       "      <td>0</td>\n",
       "    </tr>\n",
       "  </tbody>\n",
       "</table>\n",
       "</div>"
      ],
      "text/plain": [
       "        right foot  left foot\n",
       "Scored          18          0\n",
       "Missed           1          0"
      ]
     },
     "execution_count": 43,
     "metadata": {},
     "output_type": "execute_result"
    }
   ],
   "source": [
    "pen_stats(\"eden hazard\")"
   ]
  },
  {
   "cell_type": "code",
   "execution_count": 44,
   "id": "cc880bda",
   "metadata": {},
   "outputs": [],
   "source": [
    "def pen_full_stats(player):\n",
    "    player_pen=penalties[penalties[\"player\"]==player]\n",
    "    scored_pen=player_pen[player_pen[\"is_goal\"]==1]\n",
    "    missed_pen=player_pen[player_pen[\"is_goal\"]==0]\n",
    "    \n",
    "    top_left_rightfoot=scored_pen[scored_pen[\"shot_place\"]==12][scored_pen[\"bodypart\"]==1].shape[0]\n",
    "    top_left_leftfoot=scored_pen[scored_pen[\"shot_place\"]==12][scored_pen[\"bodypart\"]==2].shape[0]\n",
    "    bot_left_rightfoot=scored_pen[scored_pen[\"shot_place\"]==3][scored_pen[\"bodypart\"]==1].shape[0]\n",
    "    bot_left_leftfoot=scored_pen[scored_pen[\"shot_place\"]==3][scored_pen[\"bodypart\"]==2].shape[0]\n",
    "    top_right_rightfoot=scored_pen[scored_pen[\"shot_place\"]==13][scored_pen[\"bodypart\"]==1].shape[0]\n",
    "    top_right_leftfoot=scored_pen[scored_pen[\"shot_place\"]==13][scored_pen[\"bodypart\"]==2].shape[0]\n",
    "    bot_right_rightfoot=scored_pen[scored_pen[\"shot_place\"]==4][scored_pen[\"bodypart\"]==1].shape[0]\n",
    "    bot_right_leftfoot=scored_pen[scored_pen[\"shot_place\"]==4][scored_pen[\"bodypart\"]==2].shape[0]\n",
    "    centre_rightfoot=scored_pen[scored_pen[\"shot_place\"]==5][scored_pen[\"bodypart\"]==1].shape[0]+scored_pen[scored_pen[\"shot_place\"]==11][scored_pen[\"bodypart\"]==1].shape[0]\n",
    "    centre_leftfoot=scored_pen[scored_pen[\"shot_place\"]==5][scored_pen[\"bodypart\"]==2].shape[0]+scored_pen[scored_pen[\"shot_place\"]==11][scored_pen[\"bodypart\"]==2].shape[0]\n",
    "    scored_without_recorded_loc_rightfoot=scored_pen[scored_pen[\"shot_place\"].isnull()][scored_pen[\"bodypart\"]==1].shape[0]\n",
    "    scored_without_recorded_loc_leftfoot=scored_pen[scored_pen[\"shot_place\"].isnull()][scored_pen[\"bodypart\"]==2].shape[0]\n",
    "    missed_rightfoot=missed_pen[missed_pen[\"bodypart\"]==1].shape[0]\n",
    "    missed_leftfoot=missed_pen[missed_pen[\"bodypart\"]==2].shape[0]\n",
    "    \n",
    "    right_foot=pd.DataFrame({\"Top Left Corner\":top_left_rightfoot,\"Bottom Left Corner\":bot_left_rightfoot,\"Top Right Corner\":top_right_rightfoot,\"Bottom Right Corner\":bot_right_rightfoot,\"Centre\":centre_rightfoot,\"Unrecorded placement\":scored_without_recorded_loc_rightfoot,\"Missed\":missed_rightfoot},index=[\"Right Foot attempt\"])\n",
    "    left_foot=pd.DataFrame({\"Top Left Corner\":top_left_leftfoot,\"Bottom Left Corner\":bot_left_leftfoot,\"Top Right Corner\":top_right_leftfoot,\"Bottom Right Corner\":bot_right_leftfoot,\"Centre\":centre_leftfoot,\"Unrecorded placement\":scored_without_recorded_loc_leftfoot,\"Missed\":missed_leftfoot},index=[\"Left Foot attempt\"])\n",
    "    \n",
    "    fullstats=right_foot.append(left_foot)\n",
    "    fullstats=fullstats[[\"Top Right Corner\",\"Bottom Right Corner\",\"Top Left Corner\",\"Bottom Left Corner\",\"Centre\",\"Unrecorded placement\",\"Missed\"]]\n",
    "    return fullstats"
   ]
  },
  {
   "cell_type": "code",
   "execution_count": 45,
   "id": "1546b2dd",
   "metadata": {},
   "outputs": [
    {
     "data": {
      "text/html": [
       "<div>\n",
       "<style scoped>\n",
       "    .dataframe tbody tr th:only-of-type {\n",
       "        vertical-align: middle;\n",
       "    }\n",
       "\n",
       "    .dataframe tbody tr th {\n",
       "        vertical-align: top;\n",
       "    }\n",
       "\n",
       "    .dataframe thead th {\n",
       "        text-align: right;\n",
       "    }\n",
       "</style>\n",
       "<table border=\"1\" class=\"dataframe\">\n",
       "  <thead>\n",
       "    <tr style=\"text-align: right;\">\n",
       "      <th></th>\n",
       "      <th>Top Right Corner</th>\n",
       "      <th>Bottom Right Corner</th>\n",
       "      <th>Top Left Corner</th>\n",
       "      <th>Bottom Left Corner</th>\n",
       "      <th>Centre</th>\n",
       "      <th>Unrecorded placement</th>\n",
       "      <th>Missed</th>\n",
       "    </tr>\n",
       "  </thead>\n",
       "  <tbody>\n",
       "    <tr>\n",
       "      <th>Right Foot attempt</th>\n",
       "      <td>0</td>\n",
       "      <td>8</td>\n",
       "      <td>0</td>\n",
       "      <td>5</td>\n",
       "      <td>5</td>\n",
       "      <td>0</td>\n",
       "      <td>1</td>\n",
       "    </tr>\n",
       "    <tr>\n",
       "      <th>Left Foot attempt</th>\n",
       "      <td>0</td>\n",
       "      <td>0</td>\n",
       "      <td>0</td>\n",
       "      <td>0</td>\n",
       "      <td>0</td>\n",
       "      <td>0</td>\n",
       "      <td>0</td>\n",
       "    </tr>\n",
       "  </tbody>\n",
       "</table>\n",
       "</div>"
      ],
      "text/plain": [
       "                    Top Right Corner  Bottom Right Corner  Top Left Corner  Bottom Left Corner  Centre  Unrecorded placement  Missed\n",
       "Right Foot attempt                 0                    8                0                   5       5                     0       1\n",
       "Left Foot attempt                  0                    0                0                   0       0                     0       0"
      ]
     },
     "execution_count": 45,
     "metadata": {},
     "output_type": "execute_result"
    }
   ],
   "source": [
    "pen_full_stats(\"eden hazard\")"
   ]
  },
  {
   "cell_type": "code",
   "execution_count": 46,
   "id": "3b689d56",
   "metadata": {},
   "outputs": [
    {
     "data": {
      "text/html": [
       "<div>\n",
       "<style scoped>\n",
       "    .dataframe tbody tr th:only-of-type {\n",
       "        vertical-align: middle;\n",
       "    }\n",
       "\n",
       "    .dataframe tbody tr th {\n",
       "        vertical-align: top;\n",
       "    }\n",
       "\n",
       "    .dataframe thead th {\n",
       "        text-align: right;\n",
       "    }\n",
       "</style>\n",
       "<table border=\"1\" class=\"dataframe\">\n",
       "  <thead>\n",
       "    <tr style=\"text-align: right;\">\n",
       "      <th></th>\n",
       "      <th>id_odsp</th>\n",
       "      <th>link_odsp</th>\n",
       "      <th>adv_stats</th>\n",
       "      <th>date</th>\n",
       "      <th>league</th>\n",
       "      <th>season</th>\n",
       "      <th>country</th>\n",
       "      <th>ht</th>\n",
       "      <th>at</th>\n",
       "      <th>fthg</th>\n",
       "      <th>ftag</th>\n",
       "      <th>odd_h</th>\n",
       "      <th>odd_d</th>\n",
       "      <th>odd_a</th>\n",
       "      <th>odd_over</th>\n",
       "      <th>odd_under</th>\n",
       "      <th>odd_bts</th>\n",
       "      <th>odd_bts_n</th>\n",
       "    </tr>\n",
       "  </thead>\n",
       "  <tbody>\n",
       "    <tr>\n",
       "      <th>0</th>\n",
       "      <td>UFot0hit/</td>\n",
       "      <td>/soccer/germany/bundesliga-2011-2012/dortmund-...</td>\n",
       "      <td>True</td>\n",
       "      <td>2011-08-05</td>\n",
       "      <td>D1</td>\n",
       "      <td>2012</td>\n",
       "      <td>germany</td>\n",
       "      <td>Borussia Dortmund</td>\n",
       "      <td>Hamburg SV</td>\n",
       "      <td>3</td>\n",
       "      <td>1</td>\n",
       "      <td>1.56</td>\n",
       "      <td>4.41</td>\n",
       "      <td>7.42</td>\n",
       "      <td>NaN</td>\n",
       "      <td>NaN</td>\n",
       "      <td>NaN</td>\n",
       "      <td>NaN</td>\n",
       "    </tr>\n",
       "    <tr>\n",
       "      <th>1</th>\n",
       "      <td>Aw5DflLH/</td>\n",
       "      <td>/soccer/germany/bundesliga-2011-2012/augsburg-...</td>\n",
       "      <td>True</td>\n",
       "      <td>2011-08-06</td>\n",
       "      <td>D1</td>\n",
       "      <td>2012</td>\n",
       "      <td>germany</td>\n",
       "      <td>FC Augsburg</td>\n",
       "      <td>SC Freiburg</td>\n",
       "      <td>2</td>\n",
       "      <td>2</td>\n",
       "      <td>2.36</td>\n",
       "      <td>3.60</td>\n",
       "      <td>3.40</td>\n",
       "      <td>NaN</td>\n",
       "      <td>NaN</td>\n",
       "      <td>NaN</td>\n",
       "      <td>NaN</td>\n",
       "    </tr>\n",
       "    <tr>\n",
       "      <th>2</th>\n",
       "      <td>bkjpaC6n/</td>\n",
       "      <td>/soccer/germany/bundesliga-2011-2012/werder-br...</td>\n",
       "      <td>True</td>\n",
       "      <td>2011-08-06</td>\n",
       "      <td>D1</td>\n",
       "      <td>2012</td>\n",
       "      <td>germany</td>\n",
       "      <td>Werder Bremen</td>\n",
       "      <td>Kaiserslautern</td>\n",
       "      <td>2</td>\n",
       "      <td>0</td>\n",
       "      <td>1.83</td>\n",
       "      <td>4.20</td>\n",
       "      <td>4.80</td>\n",
       "      <td>NaN</td>\n",
       "      <td>NaN</td>\n",
       "      <td>NaN</td>\n",
       "      <td>NaN</td>\n",
       "    </tr>\n",
       "    <tr>\n",
       "      <th>3</th>\n",
       "      <td>CzPV312a/</td>\n",
       "      <td>/soccer/france/ligue-1-2011-2012/paris-sg-lori...</td>\n",
       "      <td>True</td>\n",
       "      <td>2011-08-06</td>\n",
       "      <td>F1</td>\n",
       "      <td>2012</td>\n",
       "      <td>france</td>\n",
       "      <td>Paris Saint-Germain</td>\n",
       "      <td>Lorient</td>\n",
       "      <td>0</td>\n",
       "      <td>1</td>\n",
       "      <td>1.55</td>\n",
       "      <td>4.50</td>\n",
       "      <td>9.40</td>\n",
       "      <td>NaN</td>\n",
       "      <td>NaN</td>\n",
       "      <td>NaN</td>\n",
       "      <td>NaN</td>\n",
       "    </tr>\n",
       "    <tr>\n",
       "      <th>4</th>\n",
       "      <td>GUOdmtII/</td>\n",
       "      <td>/soccer/france/ligue-1-2011-2012/caen-valencie...</td>\n",
       "      <td>True</td>\n",
       "      <td>2011-08-06</td>\n",
       "      <td>F1</td>\n",
       "      <td>2012</td>\n",
       "      <td>france</td>\n",
       "      <td>Caen</td>\n",
       "      <td>Valenciennes</td>\n",
       "      <td>1</td>\n",
       "      <td>0</td>\n",
       "      <td>2.50</td>\n",
       "      <td>3.40</td>\n",
       "      <td>3.45</td>\n",
       "      <td>NaN</td>\n",
       "      <td>NaN</td>\n",
       "      <td>NaN</td>\n",
       "      <td>NaN</td>\n",
       "    </tr>\n",
       "  </tbody>\n",
       "</table>\n",
       "</div>"
      ],
      "text/plain": [
       "     id_odsp                                          link_odsp  adv_stats        date league  season  country                   ht              at  fthg  ftag  odd_h  odd_d  odd_a  odd_over  odd_under  odd_bts  odd_bts_n\n",
       "0  UFot0hit/  /soccer/germany/bundesliga-2011-2012/dortmund-...       True  2011-08-05     D1    2012  germany    Borussia Dortmund      Hamburg SV     3     1   1.56   4.41   7.42       NaN        NaN      NaN        NaN\n",
       "1  Aw5DflLH/  /soccer/germany/bundesliga-2011-2012/augsburg-...       True  2011-08-06     D1    2012  germany          FC Augsburg     SC Freiburg     2     2   2.36   3.60   3.40       NaN        NaN      NaN        NaN\n",
       "2  bkjpaC6n/  /soccer/germany/bundesliga-2011-2012/werder-br...       True  2011-08-06     D1    2012  germany        Werder Bremen  Kaiserslautern     2     0   1.83   4.20   4.80       NaN        NaN      NaN        NaN\n",
       "3  CzPV312a/  /soccer/france/ligue-1-2011-2012/paris-sg-lori...       True  2011-08-06     F1    2012   france  Paris Saint-Germain         Lorient     0     1   1.55   4.50   9.40       NaN        NaN      NaN        NaN\n",
       "4  GUOdmtII/  /soccer/france/ligue-1-2011-2012/caen-valencie...       True  2011-08-06     F1    2012   france                 Caen    Valenciennes     1     0   2.50   3.40   3.45       NaN        NaN      NaN        NaN"
      ]
     },
     "execution_count": 46,
     "metadata": {},
     "output_type": "execute_result"
    }
   ],
   "source": [
    "game_info.head()"
   ]
  },
  {
   "cell_type": "code",
   "execution_count": 47,
   "id": "4bd689d0",
   "metadata": {},
   "outputs": [
    {
     "name": "stdout",
     "output_type": "stream",
     "text": [
      "<class 'pandas.core.frame.DataFrame'>\n",
      "RangeIndex: 10112 entries, 0 to 10111\n",
      "Data columns (total 18 columns):\n",
      " #   Column     Non-Null Count  Dtype  \n",
      "---  ------     --------------  -----  \n",
      " 0   id_odsp    10112 non-null  object \n",
      " 1   link_odsp  10112 non-null  object \n",
      " 2   adv_stats  10112 non-null  bool   \n",
      " 3   date       10112 non-null  object \n",
      " 4   league     10112 non-null  object \n",
      " 5   season     10112 non-null  int64  \n",
      " 6   country    10112 non-null  object \n",
      " 7   ht         10112 non-null  object \n",
      " 8   at         10112 non-null  object \n",
      " 9   fthg       10112 non-null  int64  \n",
      " 10  ftag       10112 non-null  int64  \n",
      " 11  odd_h      10112 non-null  float64\n",
      " 12  odd_d      10112 non-null  float64\n",
      " 13  odd_a      10112 non-null  float64\n",
      " 14  odd_over   977 non-null    float64\n",
      " 15  odd_under  977 non-null    float64\n",
      " 16  odd_bts    977 non-null    float64\n",
      " 17  odd_bts_n  977 non-null    float64\n",
      "dtypes: bool(1), float64(7), int64(3), object(7)\n",
      "memory usage: 1.3+ MB\n"
     ]
    }
   ],
   "source": [
    "game_info.info()"
   ]
  },
  {
   "cell_type": "code",
   "execution_count": 48,
   "id": "1ca0f7f7",
   "metadata": {},
   "outputs": [],
   "source": [
    "def odds_pred_result(odd_h,odd_d,odd_a):\n",
    "    if odd_h<odd_d and odd_h<odd_a:\n",
    "        return(\"Home Win\")\n",
    "    elif odd_d<odd_h and odd_d<odd_a:\n",
    "        return(\"Draw\")\n",
    "    elif odd_a<odd_d and odd_a<odd_h:\n",
    "        return(\"Away Win\")\n"
   ]
  },
  {
   "cell_type": "code",
   "execution_count": 49,
   "id": "9ea6660e",
   "metadata": {},
   "outputs": [],
   "source": [
    "def actual_result(fthg,ftag):\n",
    "    if fthg>ftag:\n",
    "        return(\"Home Win\")\n",
    "    elif fthg==ftag:\n",
    "        return(\"Draw\")\n",
    "    elif fthg<ftag:\n",
    "        return(\"Away Win\")\n",
    "    \n",
    "def actual_result_encode(fthg,ftag):\n",
    "    if fthg>ftag:\n",
    "        return (1)\n",
    "    elif fthg==ftag:\n",
    "        return (2)\n",
    "    elif fthg<ftag:\n",
    "        return (3)"
   ]
  },
  {
   "cell_type": "code",
   "execution_count": 50,
   "id": "46f1e377",
   "metadata": {},
   "outputs": [],
   "source": [
    "def check_pred(data):\n",
    "    correct=0\n",
    "    wrong=0\n",
    "    for i in range(1,data.shape[0]+1):\n",
    "        odd_h=data[i-1:i][\"odd_h\"].item()\n",
    "        odd_d=data[i-1:i][\"odd_d\"].item()\n",
    "        odd_a=data[i-1:i][\"odd_a\"].item()\n",
    "        fthg=data[i-1:i][\"fthg\"].item()\n",
    "        ftag=data[i-1:i][\"ftag\"].item()\n",
    "        oddsresult=odds_pred_result(odd_h,odd_d,odd_a)\n",
    "        actresult=actual_result(fthg,ftag)\n",
    "        if oddsresult==actresult:\n",
    "            correct+=1\n",
    "        else:\n",
    "            wrong+=1\n",
    "    return(str(\"%.2f\"%(correct/(correct+wrong)))+str(\"% correct\"))"
   ]
  },
  {
   "cell_type": "code",
   "execution_count": 51,
   "id": "c2ca3058",
   "metadata": {},
   "outputs": [
    {
     "data": {
      "text/plain": [
       "'0.53% correct'"
      ]
     },
     "execution_count": 51,
     "metadata": {},
     "output_type": "execute_result"
    }
   ],
   "source": [
    "check_pred(game_info)"
   ]
  },
  {
   "cell_type": "code",
   "execution_count": 52,
   "id": "c76753a6",
   "metadata": {},
   "outputs": [
    {
     "data": {
      "text/html": [
       "<div>\n",
       "<style scoped>\n",
       "    .dataframe tbody tr th:only-of-type {\n",
       "        vertical-align: middle;\n",
       "    }\n",
       "\n",
       "    .dataframe tbody tr th {\n",
       "        vertical-align: top;\n",
       "    }\n",
       "\n",
       "    .dataframe thead th {\n",
       "        text-align: right;\n",
       "    }\n",
       "</style>\n",
       "<table border=\"1\" class=\"dataframe\">\n",
       "  <thead>\n",
       "    <tr style=\"text-align: right;\">\n",
       "      <th></th>\n",
       "      <th>fthg</th>\n",
       "      <th>ftag</th>\n",
       "      <th>odd_h</th>\n",
       "      <th>odd_d</th>\n",
       "      <th>odd_a</th>\n",
       "    </tr>\n",
       "  </thead>\n",
       "  <tbody>\n",
       "    <tr>\n",
       "      <th>0</th>\n",
       "      <td>3</td>\n",
       "      <td>1</td>\n",
       "      <td>1.56</td>\n",
       "      <td>4.41</td>\n",
       "      <td>7.42</td>\n",
       "    </tr>\n",
       "    <tr>\n",
       "      <th>1</th>\n",
       "      <td>2</td>\n",
       "      <td>2</td>\n",
       "      <td>2.36</td>\n",
       "      <td>3.60</td>\n",
       "      <td>3.40</td>\n",
       "    </tr>\n",
       "    <tr>\n",
       "      <th>2</th>\n",
       "      <td>2</td>\n",
       "      <td>0</td>\n",
       "      <td>1.83</td>\n",
       "      <td>4.20</td>\n",
       "      <td>4.80</td>\n",
       "    </tr>\n",
       "    <tr>\n",
       "      <th>3</th>\n",
       "      <td>0</td>\n",
       "      <td>1</td>\n",
       "      <td>1.55</td>\n",
       "      <td>4.50</td>\n",
       "      <td>9.40</td>\n",
       "    </tr>\n",
       "    <tr>\n",
       "      <th>4</th>\n",
       "      <td>1</td>\n",
       "      <td>0</td>\n",
       "      <td>2.50</td>\n",
       "      <td>3.40</td>\n",
       "      <td>3.45</td>\n",
       "    </tr>\n",
       "  </tbody>\n",
       "</table>\n",
       "</div>"
      ],
      "text/plain": [
       "   fthg  ftag  odd_h  odd_d  odd_a\n",
       "0     3     1   1.56   4.41   7.42\n",
       "1     2     2   2.36   3.60   3.40\n",
       "2     2     0   1.83   4.20   4.80\n",
       "3     0     1   1.55   4.50   9.40\n",
       "4     1     0   2.50   3.40   3.45"
      ]
     },
     "execution_count": 52,
     "metadata": {},
     "output_type": "execute_result"
    }
   ],
   "source": [
    "x_var=game_info.iloc[:,9:14]\n",
    "x_var.head()"
   ]
  },
  {
   "cell_type": "code",
   "execution_count": 53,
   "id": "6604bd27",
   "metadata": {
    "scrolled": true
   },
   "outputs": [
    {
     "data": {
      "text/html": [
       "<div>\n",
       "<style scoped>\n",
       "    .dataframe tbody tr th:only-of-type {\n",
       "        vertical-align: middle;\n",
       "    }\n",
       "\n",
       "    .dataframe tbody tr th {\n",
       "        vertical-align: top;\n",
       "    }\n",
       "\n",
       "    .dataframe thead th {\n",
       "        text-align: right;\n",
       "    }\n",
       "</style>\n",
       "<table border=\"1\" class=\"dataframe\">\n",
       "  <thead>\n",
       "    <tr style=\"text-align: right;\">\n",
       "      <th></th>\n",
       "      <th>odd_h</th>\n",
       "      <th>odd_d</th>\n",
       "      <th>odd_a</th>\n",
       "      <th>diff_h_d</th>\n",
       "      <th>diff_d_a</th>\n",
       "      <th>diff_h_a</th>\n",
       "    </tr>\n",
       "  </thead>\n",
       "  <tbody>\n",
       "    <tr>\n",
       "      <th>10107</th>\n",
       "      <td>1.97</td>\n",
       "      <td>4.35</td>\n",
       "      <td>8.0</td>\n",
       "      <td>2.38</td>\n",
       "      <td>3.65</td>\n",
       "      <td>6.03</td>\n",
       "    </tr>\n",
       "    <tr>\n",
       "      <th>10108</th>\n",
       "      <td>1.19</td>\n",
       "      <td>8.50</td>\n",
       "      <td>20.0</td>\n",
       "      <td>7.31</td>\n",
       "      <td>11.50</td>\n",
       "      <td>18.81</td>\n",
       "    </tr>\n",
       "    <tr>\n",
       "      <th>10109</th>\n",
       "      <td>1.32</td>\n",
       "      <td>6.24</td>\n",
       "      <td>11.5</td>\n",
       "      <td>4.92</td>\n",
       "      <td>5.26</td>\n",
       "      <td>10.18</td>\n",
       "    </tr>\n",
       "    <tr>\n",
       "      <th>10110</th>\n",
       "      <td>1.74</td>\n",
       "      <td>4.07</td>\n",
       "      <td>5.9</td>\n",
       "      <td>2.33</td>\n",
       "      <td>1.83</td>\n",
       "      <td>4.16</td>\n",
       "    </tr>\n",
       "    <tr>\n",
       "      <th>10111</th>\n",
       "      <td>1.79</td>\n",
       "      <td>3.96</td>\n",
       "      <td>5.4</td>\n",
       "      <td>2.17</td>\n",
       "      <td>1.44</td>\n",
       "      <td>3.61</td>\n",
       "    </tr>\n",
       "  </tbody>\n",
       "</table>\n",
       "</div>"
      ],
      "text/plain": [
       "       odd_h  odd_d  odd_a  diff_h_d  diff_d_a  diff_h_a\n",
       "10107   1.97   4.35    8.0      2.38      3.65      6.03\n",
       "10108   1.19   8.50   20.0      7.31     11.50     18.81\n",
       "10109   1.32   6.24   11.5      4.92      5.26     10.18\n",
       "10110   1.74   4.07    5.9      2.33      1.83      4.16\n",
       "10111   1.79   3.96    5.4      2.17      1.44      3.61"
      ]
     },
     "execution_count": 53,
     "metadata": {},
     "output_type": "execute_result"
    }
   ],
   "source": [
    "x_var=game_info.iloc[:,9:14]\n",
    "result=[]\n",
    "for i in range(1,game_info.shape[0]+1):\n",
    "    result.append(actual_result_encode(game_info[i-1:i][\"fthg\"].item(),game_info[i-1:i][\"ftag\"].item()))\n",
    "y=pd.DataFrame(result)\n",
    "x_var[\"diff_h_d\"]=abs(x_var[\"odd_h\"]-x_var[\"odd_d\"])\n",
    "x_var[\"diff_d_a\"]=abs(x_var[\"odd_d\"]-x_var[\"odd_a\"])\n",
    "x_var[\"diff_h_a\"]=abs(x_var[\"odd_h\"]-x_var[\"odd_a\"])\n",
    "x_var=x_var.drop([\"fthg\",\"ftag\"],axis=1)\n",
    "x_var.tail()"
   ]
  },
  {
   "cell_type": "code",
   "execution_count": 54,
   "id": "3229b0dc",
   "metadata": {},
   "outputs": [
    {
     "ename": "ModuleNotFoundError",
     "evalue": "No module named 'sklearn.cross_validation'",
     "output_type": "error",
     "traceback": [
      "\u001b[1;31m---------------------------------------------------------------------------\u001b[0m",
      "\u001b[1;31mModuleNotFoundError\u001b[0m                       Traceback (most recent call last)",
      "\u001b[1;32m~\\AppData\\Local\\Temp/ipykernel_12700/1499145543.py\u001b[0m in \u001b[0;36m<module>\u001b[1;34m\u001b[0m\n\u001b[0;32m      2\u001b[0m \u001b[1;32mfrom\u001b[0m \u001b[0msklearn\u001b[0m\u001b[1;33m.\u001b[0m\u001b[0mensemble\u001b[0m \u001b[1;32mimport\u001b[0m \u001b[0mRandomForestClassifier\u001b[0m\u001b[1;33m\u001b[0m\u001b[1;33m\u001b[0m\u001b[0m\n\u001b[0;32m      3\u001b[0m \u001b[1;32mfrom\u001b[0m \u001b[0msklearn\u001b[0m\u001b[1;33m.\u001b[0m\u001b[0mfeature_selection\u001b[0m \u001b[1;32mimport\u001b[0m \u001b[0mSelectKBest\u001b[0m\u001b[1;33m\u001b[0m\u001b[1;33m\u001b[0m\u001b[0m\n\u001b[1;32m----> 4\u001b[1;33m \u001b[1;32mfrom\u001b[0m \u001b[0msklearn\u001b[0m\u001b[1;33m.\u001b[0m\u001b[0mcross_validation\u001b[0m \u001b[1;32mimport\u001b[0m \u001b[0mStratifiedKFold\u001b[0m\u001b[1;33m\u001b[0m\u001b[1;33m\u001b[0m\u001b[0m\n\u001b[0m\u001b[0;32m      5\u001b[0m \u001b[1;32mfrom\u001b[0m \u001b[0msklearn\u001b[0m\u001b[1;33m.\u001b[0m\u001b[0mgrid_search\u001b[0m \u001b[1;32mimport\u001b[0m \u001b[0mGridSearchCV\u001b[0m\u001b[1;33m\u001b[0m\u001b[1;33m\u001b[0m\u001b[0m\n\u001b[0;32m      6\u001b[0m \u001b[1;32mfrom\u001b[0m \u001b[0msklearn\u001b[0m\u001b[1;33m.\u001b[0m\u001b[0mensemble\u001b[0m\u001b[1;33m.\u001b[0m\u001b[0mgradient_boosting\u001b[0m \u001b[1;32mimport\u001b[0m \u001b[0mGradientBoostingClassifier\u001b[0m\u001b[1;33m\u001b[0m\u001b[1;33m\u001b[0m\u001b[0m\n",
      "\u001b[1;31mModuleNotFoundError\u001b[0m: No module named 'sklearn.cross_validation'"
     ]
    }
   ],
   "source": [
    "from sklearn.pipeline import make_pipeline\n",
    "from sklearn.ensemble import RandomForestClassifier\n",
    "from sklearn.feature_selection import SelectKBest\n",
    "from sklearn.cross_validation import StratifiedKFold\n",
    "from sklearn.grid_search import GridSearchCV\n",
    "from sklearn.ensemble.gradient_boosting import GradientBoostingClassifier\n",
    "from sklearn.cross_validation import cross_val_score\n",
    "from sklearn.linear_model import LogisticRegression\n",
    "from sklearn import svm\n",
    "from sklearn.svm import SVC, LinearSVC\n",
    "from sklearn.neighbors import KNeighborsClassifier\n",
    "from sklearn.tree import DecisionTreeClassifier\n",
    "from sklearn.naive_bayes import MultinomialNB\n",
    "from sklearn.feature_selection import SelectFromModel\n",
    "from sklearn.model_selection import KFold\n",
    "from sklearn.model_selection import cross_val_score\n",
    "from sklearn.cross_validation import train_test_split"
   ]
  },
  {
   "cell_type": "code",
   "execution_count": null,
   "id": "775d4bac",
   "metadata": {},
   "outputs": [],
   "source": []
  }
 ],
 "metadata": {
  "kernelspec": {
   "display_name": "Python 3 (ipykernel)",
   "language": "python",
   "name": "python3"
  },
  "language_info": {
   "codemirror_mode": {
    "name": "ipython",
    "version": 3
   },
   "file_extension": ".py",
   "mimetype": "text/x-python",
   "name": "python",
   "nbconvert_exporter": "python",
   "pygments_lexer": "ipython3",
   "version": "3.9.7"
  }
 },
 "nbformat": 4,
 "nbformat_minor": 5
}
